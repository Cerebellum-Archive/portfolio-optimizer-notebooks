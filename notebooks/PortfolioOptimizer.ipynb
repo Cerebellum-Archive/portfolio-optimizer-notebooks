{
 "cells": [
  {
   "cell_type": "code",
   "execution_count": null,
   "id": "7e97e3c7-b250-4527-9e2b-8f78f4cef9a0",
   "metadata": {},
   "outputs": [],
   "source": [
    "import os\n",
    "if not os.path.exists(\"portfolio-optimizer-notebooks\"):\n",
    "    !git clone https://github.com/drewtilley/portfolio-optimizer-notebooks.git\n",
    "\n",
    "# Install Riskfolio\n",
    "!pip install -q riskfolio-lib\n",
    "\n",
    "# Add the utils path to Python's module search path\n",
    "import sys\n",
    "sys.path.append(\"portfolio-optimizer-notebooks/utils\")\n",
    "\n",
    "import PortfolioOptimizer"
   ]
  },
  {
   "cell_type": "code",
   "execution_count": 1,
   "id": "6bfd2a87-0ec8-4f80-9545-c77811e67dcf",
   "metadata": {},
   "outputs": [],
   "source": [
    "# local cell delete\n",
    "import sys\n",
    "sys.path.append(\"/home/drew/projects/bwmacro/portfolio-optimizer-notebooks/utils\")"
   ]
  },
  {
   "cell_type": "code",
   "execution_count": 2,
   "id": "ecd6a4c1-5dd5-46fc-98df-2c3419d11d51",
   "metadata": {},
   "outputs": [],
   "source": [
    "# Module Imports\n",
    "import PortfolioOptimizer\n",
    "import xarray as xr\n",
    "import matplotlib.pyplot as plt\n",
    "import pandas as pd"
   ]
  },
  {
   "cell_type": "code",
   "execution_count": 7,
   "id": "7e6a8891-8a14-4e45-9770-5a7d89816f48",
   "metadata": {},
   "outputs": [],
   "source": [
    "# Display Settings\n",
    "pd.set_option('display.notebook_repr_html', True)"
   ]
  },
  {
   "cell_type": "markdown",
   "id": "ef906c0d-bacf-48eb-ae58-57bd0e69c864",
   "metadata": {},
   "source": [
    "\n",
    "### Portfolio Optimization with Blue Water Macro Data\n",
    "\n",
    "This notebook demonstrates how to use the `PortfolioOptimizer` module to build optimized portfolios using Blue Water Macro data. The goal is to:\n",
    "\n",
    "1. Provide portfolio optimization tools using curated return and risk data\n",
    "2. Support multiple risk model frameworks (historical, factor-based, etc.)\n",
    "3. Enable flexible optimization criteria (e.g., Sharpe maximization, minimum variance)\n",
    "\n",
    "The `PortfolioOptimizer` module is built **on top of** [Riskfolio-Lib](https://riskfolio-lib.readthedocs.io/), a powerful but complex portfolio optimization library. `PortfolioOptimizer` simplifies the interface, allowing users to run common portfolio construction workflows without dealing with Riskfolio's detailed configuration.\n"
   ]
  },
  {
   "cell_type": "markdown",
   "id": "286dd277-0a4b-48c6-aba3-d8f179dc7164",
   "metadata": {},
   "source": [
    "**Input Data: Xarray Dataset**\n",
    "\n",
    "The PortfolioOptimizer expects an input in the form of an xarray.Dataset, which contains the necessary financial data (e.g., returns, factor exposures, etc.). To keep the interface clean and flexible, the optimizer assumes that the user has already sliced the dataset to the desired date range and set of tickers before passing it in."
   ]
  },
  {
   "cell_type": "code",
   "execution_count": 4,
   "id": "dbeedcbb-b66e-4c2f-b9b5-7a287d0339c4",
   "metadata": {},
   "outputs": [],
   "source": [
    "# URL: the Testing dataset has a year of history for 10 large cap stocks\n",
    "url = 'https://storage.googleapis.com/rm_public_csv/Testing.csv'"
   ]
  },
  {
   "cell_type": "code",
   "execution_count": 5,
   "id": "3823d87d-0060-4637-9a22-97151d7b7ba2",
   "metadata": {},
   "outputs": [],
   "source": [
    "# Testing dataset is shared as a csv authenticated users have access to xarray datasets\n",
    "rm_demo_df = pd.read_csv(url,\n",
    "                         index_col=['date', 'ticker'],\n",
    "                         parse_dates=['date'],\n",
    "                         date_format='%Y-%m-%d'\n",
    "                        )\n",
    "\n",
    "# Create xarray dataset for the optimizer\n",
    "rm_demo_ds = xr.Dataset.from_dataframe(rm_demo_df)"
   ]
  },
  {
   "cell_type": "code",
   "execution_count": 12,
   "id": "78c189f2-82a9-4279-8d05-40038b17a8dc",
   "metadata": {},
   "outputs": [
    {
     "data": {
      "text/html": [
       "<div>\n",
       "<style scoped>\n",
       "    .dataframe tbody tr th:only-of-type {\n",
       "        vertical-align: middle;\n",
       "    }\n",
       "\n",
       "    .dataframe tbody tr th {\n",
       "        vertical-align: top;\n",
       "    }\n",
       "\n",
       "    .dataframe thead th {\n",
       "        text-align: right;\n",
       "    }\n",
       "</style>\n",
       "<table border=\"1\" class=\"dataframe\">\n",
       "  <thead>\n",
       "    <tr style=\"text-align: right;\">\n",
       "      <th></th>\n",
       "      <th></th>\n",
       "      <th>bw_sector_code</th>\n",
       "      <th>bw_sector_name</th>\n",
       "      <th>close</th>\n",
       "      <th>cross_term_risk_pct</th>\n",
       "      <th>etf_mkt_beta</th>\n",
       "      <th>gross_return_variance</th>\n",
       "      <th>market_beta</th>\n",
       "      <th>market_contr_variance</th>\n",
       "      <th>market_factor_return</th>\n",
       "      <th>market_hedge_wt</th>\n",
       "      <th>...</th>\n",
       "      <th>residual_risk_pct</th>\n",
       "      <th>residual_variance</th>\n",
       "      <th>return</th>\n",
       "      <th>sector_beta</th>\n",
       "      <th>sector_contr_variance</th>\n",
       "      <th>sector_etf</th>\n",
       "      <th>sector_factor_beta</th>\n",
       "      <th>sector_factor_return</th>\n",
       "      <th>sector_hedge_wt</th>\n",
       "      <th>sector_risk_pct</th>\n",
       "    </tr>\n",
       "    <tr>\n",
       "      <th>date</th>\n",
       "      <th>ticker</th>\n",
       "      <th></th>\n",
       "      <th></th>\n",
       "      <th></th>\n",
       "      <th></th>\n",
       "      <th></th>\n",
       "      <th></th>\n",
       "      <th></th>\n",
       "      <th></th>\n",
       "      <th></th>\n",
       "      <th></th>\n",
       "      <th></th>\n",
       "      <th></th>\n",
       "      <th></th>\n",
       "      <th></th>\n",
       "      <th></th>\n",
       "      <th></th>\n",
       "      <th></th>\n",
       "      <th></th>\n",
       "      <th></th>\n",
       "      <th></th>\n",
       "      <th></th>\n",
       "    </tr>\n",
       "  </thead>\n",
       "  <tbody>\n",
       "    <tr>\n",
       "      <th rowspan=\"10\" valign=\"top\">2024-06-20</th>\n",
       "      <th>NFLX</th>\n",
       "      <td>45.0</td>\n",
       "      <td>Information_Technology</td>\n",
       "      <td>679.03</td>\n",
       "      <td>0.004155</td>\n",
       "      <td>1.309033</td>\n",
       "      <td>4.782536</td>\n",
       "      <td>1.214309</td>\n",
       "      <td>0.888269</td>\n",
       "      <td>-0.2717</td>\n",
       "      <td>-0.349668</td>\n",
       "      <td>...</td>\n",
       "      <td>0.786658</td>\n",
       "      <td>3.763805</td>\n",
       "      <td>-0.9684</td>\n",
       "      <td>0.660518</td>\n",
       "      <td>0.112593</td>\n",
       "      <td>XLK</td>\n",
       "      <td>0.660518</td>\n",
       "      <td>-0.767836</td>\n",
       "      <td>-0.660518</td>\n",
       "      <td>0.023533</td>\n",
       "    </tr>\n",
       "    <tr>\n",
       "      <th>UNH</th>\n",
       "      <td>35.0</td>\n",
       "      <td>Health_Care</td>\n",
       "      <td>484.52</td>\n",
       "      <td>0.003977</td>\n",
       "      <td>0.566217</td>\n",
       "      <td>1.786410</td>\n",
       "      <td>0.260285</td>\n",
       "      <td>0.067958</td>\n",
       "      <td>-0.2717</td>\n",
       "      <td>0.306780</td>\n",
       "      <td>...</td>\n",
       "      <td>0.790310</td>\n",
       "      <td>1.422803</td>\n",
       "      <td>0.7213</td>\n",
       "      <td>1.001497</td>\n",
       "      <td>0.302391</td>\n",
       "      <td>XLV</td>\n",
       "      <td>1.001497</td>\n",
       "      <td>0.482741</td>\n",
       "      <td>-1.001497</td>\n",
       "      <td>0.167966</td>\n",
       "    </tr>\n",
       "    <tr>\n",
       "      <th>NVDA</th>\n",
       "      <td>45.0</td>\n",
       "      <td>Information_Technology</td>\n",
       "      <td>130.78</td>\n",
       "      <td>0.015255</td>\n",
       "      <td>1.309033</td>\n",
       "      <td>7.752535</td>\n",
       "      <td>2.313531</td>\n",
       "      <td>1.978843</td>\n",
       "      <td>-0.2717</td>\n",
       "      <td>0.226663</td>\n",
       "      <td>...</td>\n",
       "      <td>0.564516</td>\n",
       "      <td>4.118030</td>\n",
       "      <td>-3.5403</td>\n",
       "      <td>1.940512</td>\n",
       "      <td>1.086636</td>\n",
       "      <td>XLK</td>\n",
       "      <td>1.940512</td>\n",
       "      <td>-0.767836</td>\n",
       "      <td>-1.940512</td>\n",
       "      <td>0.148960</td>\n",
       "    </tr>\n",
       "    <tr>\n",
       "      <th>JNJ</th>\n",
       "      <td>35.0</td>\n",
       "      <td>Health_Care</td>\n",
       "      <td>147.78</td>\n",
       "      <td>0.005828</td>\n",
       "      <td>0.566217</td>\n",
       "      <td>1.032109</td>\n",
       "      <td>0.210629</td>\n",
       "      <td>0.034038</td>\n",
       "      <td>-0.2717</td>\n",
       "      <td>0.352062</td>\n",
       "      <td>...</td>\n",
       "      <td>0.689132</td>\n",
       "      <td>0.679718</td>\n",
       "      <td>1.4624</td>\n",
       "      <td>0.993774</td>\n",
       "      <td>0.266834</td>\n",
       "      <td>XLV</td>\n",
       "      <td>0.993774</td>\n",
       "      <td>0.482741</td>\n",
       "      <td>-0.993774</td>\n",
       "      <td>0.270530</td>\n",
       "    </tr>\n",
       "    <tr>\n",
       "      <th>AMZN</th>\n",
       "      <td>25.0</td>\n",
       "      <td>Consumer_Discretionary</td>\n",
       "      <td>186.10</td>\n",
       "      <td>0.002411</td>\n",
       "      <td>1.175337</td>\n",
       "      <td>3.029408</td>\n",
       "      <td>1.392119</td>\n",
       "      <td>1.222697</td>\n",
       "      <td>-0.2717</td>\n",
       "      <td>-1.162033</td>\n",
       "      <td>...</td>\n",
       "      <td>0.492831</td>\n",
       "      <td>1.563645</td>\n",
       "      <td>1.7997</td>\n",
       "      <td>0.195762</td>\n",
       "      <td>0.378789</td>\n",
       "      <td>XLY</td>\n",
       "      <td>0.195762</td>\n",
       "      <td>0.446539</td>\n",
       "      <td>-0.195762</td>\n",
       "      <td>0.119387</td>\n",
       "    </tr>\n",
       "    <tr>\n",
       "      <th>JPM</th>\n",
       "      <td>40.0</td>\n",
       "      <td>Financials</td>\n",
       "      <td>198.67</td>\n",
       "      <td>0.031164</td>\n",
       "      <td>0.781520</td>\n",
       "      <td>1.176447</td>\n",
       "      <td>0.649675</td>\n",
       "      <td>0.289884</td>\n",
       "      <td>-0.2717</td>\n",
       "      <td>0.317958</td>\n",
       "      <td>...</td>\n",
       "      <td>0.376751</td>\n",
       "      <td>0.446336</td>\n",
       "      <td>0.8477</td>\n",
       "      <td>1.238143</td>\n",
       "      <td>0.411558</td>\n",
       "      <td>XLF</td>\n",
       "      <td>1.238143</td>\n",
       "      <td>0.745439</td>\n",
       "      <td>-1.238143</td>\n",
       "      <td>0.347395</td>\n",
       "    </tr>\n",
       "    <tr>\n",
       "      <th>XOM</th>\n",
       "      <td>10.0</td>\n",
       "      <td>Energy</td>\n",
       "      <td>111.74</td>\n",
       "      <td>0.013093</td>\n",
       "      <td>0.456429</td>\n",
       "      <td>1.678766</td>\n",
       "      <td>0.360800</td>\n",
       "      <td>0.113143</td>\n",
       "      <td>-0.2717</td>\n",
       "      <td>0.137289</td>\n",
       "      <td>...</td>\n",
       "      <td>0.165573</td>\n",
       "      <td>0.290912</td>\n",
       "      <td>2.1576</td>\n",
       "      <td>1.091273</td>\n",
       "      <td>1.329946</td>\n",
       "      <td>XLE</td>\n",
       "      <td>1.091273</td>\n",
       "      <td>1.962912</td>\n",
       "      <td>-1.091273</td>\n",
       "      <td>0.756938</td>\n",
       "    </tr>\n",
       "    <tr>\n",
       "      <th>META</th>\n",
       "      <td>45.0</td>\n",
       "      <td>Information_Technology</td>\n",
       "      <td>501.70</td>\n",
       "      <td>0.003091</td>\n",
       "      <td>1.309033</td>\n",
       "      <td>5.087494</td>\n",
       "      <td>1.642894</td>\n",
       "      <td>1.374855</td>\n",
       "      <td>-0.2717</td>\n",
       "      <td>-1.117967</td>\n",
       "      <td>...</td>\n",
       "      <td>0.695895</td>\n",
       "      <td>3.502693</td>\n",
       "      <td>0.4425</td>\n",
       "      <td>0.401003</td>\n",
       "      <td>0.140254</td>\n",
       "      <td>XLK</td>\n",
       "      <td>0.401003</td>\n",
       "      <td>-0.767836</td>\n",
       "      <td>-0.401003</td>\n",
       "      <td>0.027865</td>\n",
       "    </tr>\n",
       "    <tr>\n",
       "      <th>PG</th>\n",
       "      <td>30.0</td>\n",
       "      <td>Consumer_Staples</td>\n",
       "      <td>167.67</td>\n",
       "      <td>0.006325</td>\n",
       "      <td>0.373177</td>\n",
       "      <td>0.738789</td>\n",
       "      <td>0.210428</td>\n",
       "      <td>0.069944</td>\n",
       "      <td>-0.2717</td>\n",
       "      <td>0.128124</td>\n",
       "      <td>...</td>\n",
       "      <td>0.412532</td>\n",
       "      <td>0.330321</td>\n",
       "      <td>-0.5280</td>\n",
       "      <td>0.907215</td>\n",
       "      <td>0.395385</td>\n",
       "      <td>XLP</td>\n",
       "      <td>0.907215</td>\n",
       "      <td>-0.117208</td>\n",
       "      <td>-0.907215</td>\n",
       "      <td>0.493790</td>\n",
       "    </tr>\n",
       "    <tr>\n",
       "      <th>GOOG</th>\n",
       "      <td>45.0</td>\n",
       "      <td>Information_Technology</td>\n",
       "      <td>177.71</td>\n",
       "      <td>0.003534</td>\n",
       "      <td>1.309033</td>\n",
       "      <td>3.043744</td>\n",
       "      <td>1.054726</td>\n",
       "      <td>0.799660</td>\n",
       "      <td>-0.2717</td>\n",
       "      <td>-0.501319</td>\n",
       "      <td>...</td>\n",
       "      <td>0.713915</td>\n",
       "      <td>2.205363</td>\n",
       "      <td>0.7141</td>\n",
       "      <td>0.422760</td>\n",
       "      <td>0.073169</td>\n",
       "      <td>XLK</td>\n",
       "      <td>0.422760</td>\n",
       "      <td>-0.767836</td>\n",
       "      <td>-0.422760</td>\n",
       "      <td>0.023686</td>\n",
       "    </tr>\n",
       "    <tr>\n",
       "      <th rowspan=\"10\" valign=\"top\">2025-06-18</th>\n",
       "      <th>NFLX</th>\n",
       "      <td>45.0</td>\n",
       "      <td>Information_Technology</td>\n",
       "      <td>1222.29</td>\n",
       "      <td>0.002076</td>\n",
       "      <td>1.282467</td>\n",
       "      <td>4.134276</td>\n",
       "      <td>0.851564</td>\n",
       "      <td>2.358190</td>\n",
       "      <td>-0.0151</td>\n",
       "      <td>-0.192046</td>\n",
       "      <td>...</td>\n",
       "      <td>0.535944</td>\n",
       "      <td>2.802031</td>\n",
       "      <td>0.1327</td>\n",
       "      <td>0.514257</td>\n",
       "      <td>0.057138</td>\n",
       "      <td>XLK</td>\n",
       "      <td>0.514257</td>\n",
       "      <td>0.139565</td>\n",
       "      <td>-0.514257</td>\n",
       "      <td>0.010929</td>\n",
       "    </tr>\n",
       "    <tr>\n",
       "      <th>UNH</th>\n",
       "      <td>35.0</td>\n",
       "      <td>Health_Care</td>\n",
       "      <td>307.20</td>\n",
       "      <td>0.000259</td>\n",
       "      <td>0.499822</td>\n",
       "      <td>7.785646</td>\n",
       "      <td>0.074634</td>\n",
       "      <td>0.033257</td>\n",
       "      <td>-0.0151</td>\n",
       "      <td>0.398199</td>\n",
       "      <td>...</td>\n",
       "      <td>0.890044</td>\n",
       "      <td>6.675173</td>\n",
       "      <td>-0.5407</td>\n",
       "      <td>0.946002</td>\n",
       "      <td>0.789452</td>\n",
       "      <td>XLV</td>\n",
       "      <td>0.946002</td>\n",
       "      <td>-0.164753</td>\n",
       "      <td>-0.946002</td>\n",
       "      <td>0.105263</td>\n",
       "    </tr>\n",
       "    <tr>\n",
       "      <th>NVDA</th>\n",
       "      <td>45.0</td>\n",
       "      <td>Information_Technology</td>\n",
       "      <td>145.48</td>\n",
       "      <td>0.008120</td>\n",
       "      <td>1.282467</td>\n",
       "      <td>13.415474</td>\n",
       "      <td>1.735625</td>\n",
       "      <td>10.080889</td>\n",
       "      <td>-0.0151</td>\n",
       "      <td>2.060896</td>\n",
       "      <td>...</td>\n",
       "      <td>0.158229</td>\n",
       "      <td>2.481830</td>\n",
       "      <td>0.9437</td>\n",
       "      <td>2.960326</td>\n",
       "      <td>2.994926</td>\n",
       "      <td>XLK</td>\n",
       "      <td>2.960326</td>\n",
       "      <td>0.139565</td>\n",
       "      <td>-2.960326</td>\n",
       "      <td>0.190942</td>\n",
       "    </tr>\n",
       "    <tr>\n",
       "      <th>JNJ</th>\n",
       "      <td>35.0</td>\n",
       "      <td>Health_Care</td>\n",
       "      <td>150.73</td>\n",
       "      <td>0.001055</td>\n",
       "      <td>0.499822</td>\n",
       "      <td>1.418358</td>\n",
       "      <td>0.060335</td>\n",
       "      <td>0.016834</td>\n",
       "      <td>-0.0151</td>\n",
       "      <td>0.445120</td>\n",
       "      <td>...</td>\n",
       "      <td>0.516773</td>\n",
       "      <td>0.821067</td>\n",
       "      <td>-1.0828</td>\n",
       "      <td>1.011271</td>\n",
       "      <td>0.749258</td>\n",
       "      <td>XLV</td>\n",
       "      <td>1.011271</td>\n",
       "      <td>-0.164753</td>\n",
       "      <td>-1.011271</td>\n",
       "      <td>0.471577</td>\n",
       "    </tr>\n",
       "    <tr>\n",
       "      <th>AMZN</th>\n",
       "      <td>25.0</td>\n",
       "      <td>Consumer_Discretionary</td>\n",
       "      <td>212.52</td>\n",
       "      <td>0.006265</td>\n",
       "      <td>1.182237</td>\n",
       "      <td>4.748329</td>\n",
       "      <td>1.279137</td>\n",
       "      <td>3.513351</td>\n",
       "      <td>-0.0151</td>\n",
       "      <td>-0.188224</td>\n",
       "      <td>...</td>\n",
       "      <td>0.291277</td>\n",
       "      <td>1.539939</td>\n",
       "      <td>-1.0707</td>\n",
       "      <td>0.922753</td>\n",
       "      <td>0.200442</td>\n",
       "      <td>XLY</td>\n",
       "      <td>0.922753</td>\n",
       "      <td>0.065352</td>\n",
       "      <td>-0.922753</td>\n",
       "      <td>0.037913</td>\n",
       "    </tr>\n",
       "    <tr>\n",
       "      <th>JPM</th>\n",
       "      <td>40.0</td>\n",
       "      <td>Financials</td>\n",
       "      <td>273.96</td>\n",
       "      <td>0.015320</td>\n",
       "      <td>0.814214</td>\n",
       "      <td>3.133251</td>\n",
       "      <td>0.880639</td>\n",
       "      <td>1.171799</td>\n",
       "      <td>-0.0151</td>\n",
       "      <td>-0.009384</td>\n",
       "      <td>...</td>\n",
       "      <td>0.250961</td>\n",
       "      <td>0.708492</td>\n",
       "      <td>1.6474</td>\n",
       "      <td>1.070058</td>\n",
       "      <td>0.899570</td>\n",
       "      <td>XLF</td>\n",
       "      <td>1.070058</td>\n",
       "      <td>-0.027505</td>\n",
       "      <td>-1.070058</td>\n",
       "      <td>0.318645</td>\n",
       "    </tr>\n",
       "    <tr>\n",
       "      <th>XOM</th>\n",
       "      <td>10.0</td>\n",
       "      <td>Energy</td>\n",
       "      <td>113.19</td>\n",
       "      <td>0.013064</td>\n",
       "      <td>0.767930</td>\n",
       "      <td>2.252627</td>\n",
       "      <td>0.494864</td>\n",
       "      <td>0.135292</td>\n",
       "      <td>-0.0151</td>\n",
       "      <td>0.270638</td>\n",
       "      <td>...</td>\n",
       "      <td>0.171096</td>\n",
       "      <td>0.377490</td>\n",
       "      <td>-0.7105</td>\n",
       "      <td>0.996839</td>\n",
       "      <td>1.664697</td>\n",
       "      <td>XLE</td>\n",
       "      <td>0.996839</td>\n",
       "      <td>-0.642604</td>\n",
       "      <td>-0.996839</td>\n",
       "      <td>0.754519</td>\n",
       "    </tr>\n",
       "    <tr>\n",
       "      <th>META</th>\n",
       "      <td>45.0</td>\n",
       "      <td>Information_Technology</td>\n",
       "      <td>695.77</td>\n",
       "      <td>0.003064</td>\n",
       "      <td>1.282467</td>\n",
       "      <td>5.438071</td>\n",
       "      <td>1.407166</td>\n",
       "      <td>3.278997</td>\n",
       "      <td>-0.0151</td>\n",
       "      <td>-0.727360</td>\n",
       "      <td>...</td>\n",
       "      <td>0.421752</td>\n",
       "      <td>2.425213</td>\n",
       "      <td>-0.2094</td>\n",
       "      <td>0.530078</td>\n",
       "      <td>0.028504</td>\n",
       "      <td>XLK</td>\n",
       "      <td>0.530078</td>\n",
       "      <td>0.139565</td>\n",
       "      <td>-0.530078</td>\n",
       "      <td>0.004957</td>\n",
       "    </tr>\n",
       "    <tr>\n",
       "      <th>PG</th>\n",
       "      <td>30.0</td>\n",
       "      <td>Consumer_Staples</td>\n",
       "      <td>158.02</td>\n",
       "      <td>0.005043</td>\n",
       "      <td>0.354155</td>\n",
       "      <td>1.461459</td>\n",
       "      <td>0.229182</td>\n",
       "      <td>0.020856</td>\n",
       "      <td>-0.0151</td>\n",
       "      <td>0.166666</td>\n",
       "      <td>...</td>\n",
       "      <td>0.430315</td>\n",
       "      <td>0.579874</td>\n",
       "      <td>-0.3154</td>\n",
       "      <td>1.117728</td>\n",
       "      <td>0.740030</td>\n",
       "      <td>XLP</td>\n",
       "      <td>1.117728</td>\n",
       "      <td>-0.118852</td>\n",
       "      <td>-1.117728</td>\n",
       "      <td>0.549164</td>\n",
       "    </tr>\n",
       "    <tr>\n",
       "      <th>GOOG</th>\n",
       "      <td>45.0</td>\n",
       "      <td>Information_Technology</td>\n",
       "      <td>173.98</td>\n",
       "      <td>0.003018</td>\n",
       "      <td>1.282467</td>\n",
       "      <td>3.893928</td>\n",
       "      <td>1.004298</td>\n",
       "      <td>2.542633</td>\n",
       "      <td>-0.0151</td>\n",
       "      <td>-0.233984</td>\n",
       "      <td>...</td>\n",
       "      <td>0.471577</td>\n",
       "      <td>2.308334</td>\n",
       "      <td>-1.8338</td>\n",
       "      <td>0.600650</td>\n",
       "      <td>0.029188</td>\n",
       "      <td>XLK</td>\n",
       "      <td>0.600650</td>\n",
       "      <td>0.139565</td>\n",
       "      <td>-0.600650</td>\n",
       "      <td>0.005963</td>\n",
       "    </tr>\n",
       "  </tbody>\n",
       "</table>\n",
       "<p>20 rows × 23 columns</p>\n",
       "</div>"
      ],
      "text/plain": [
       "                   bw_sector_code          bw_sector_name    close  \\\n",
       "date       ticker                                                    \n",
       "2024-06-20 NFLX              45.0  Information_Technology   679.03   \n",
       "           UNH               35.0             Health_Care   484.52   \n",
       "           NVDA              45.0  Information_Technology   130.78   \n",
       "           JNJ               35.0             Health_Care   147.78   \n",
       "           AMZN              25.0  Consumer_Discretionary   186.10   \n",
       "           JPM               40.0              Financials   198.67   \n",
       "           XOM               10.0                  Energy   111.74   \n",
       "           META              45.0  Information_Technology   501.70   \n",
       "           PG                30.0        Consumer_Staples   167.67   \n",
       "           GOOG              45.0  Information_Technology   177.71   \n",
       "2025-06-18 NFLX              45.0  Information_Technology  1222.29   \n",
       "           UNH               35.0             Health_Care   307.20   \n",
       "           NVDA              45.0  Information_Technology   145.48   \n",
       "           JNJ               35.0             Health_Care   150.73   \n",
       "           AMZN              25.0  Consumer_Discretionary   212.52   \n",
       "           JPM               40.0              Financials   273.96   \n",
       "           XOM               10.0                  Energy   113.19   \n",
       "           META              45.0  Information_Technology   695.77   \n",
       "           PG                30.0        Consumer_Staples   158.02   \n",
       "           GOOG              45.0  Information_Technology   173.98   \n",
       "\n",
       "                   cross_term_risk_pct  etf_mkt_beta  gross_return_variance  \\\n",
       "date       ticker                                                             \n",
       "2024-06-20 NFLX               0.004155      1.309033               4.782536   \n",
       "           UNH                0.003977      0.566217               1.786410   \n",
       "           NVDA               0.015255      1.309033               7.752535   \n",
       "           JNJ                0.005828      0.566217               1.032109   \n",
       "           AMZN               0.002411      1.175337               3.029408   \n",
       "           JPM                0.031164      0.781520               1.176447   \n",
       "           XOM                0.013093      0.456429               1.678766   \n",
       "           META               0.003091      1.309033               5.087494   \n",
       "           PG                 0.006325      0.373177               0.738789   \n",
       "           GOOG               0.003534      1.309033               3.043744   \n",
       "2025-06-18 NFLX               0.002076      1.282467               4.134276   \n",
       "           UNH                0.000259      0.499822               7.785646   \n",
       "           NVDA               0.008120      1.282467              13.415474   \n",
       "           JNJ                0.001055      0.499822               1.418358   \n",
       "           AMZN               0.006265      1.182237               4.748329   \n",
       "           JPM                0.015320      0.814214               3.133251   \n",
       "           XOM                0.013064      0.767930               2.252627   \n",
       "           META               0.003064      1.282467               5.438071   \n",
       "           PG                 0.005043      0.354155               1.461459   \n",
       "           GOOG               0.003018      1.282467               3.893928   \n",
       "\n",
       "                   market_beta  market_contr_variance  market_factor_return  \\\n",
       "date       ticker                                                             \n",
       "2024-06-20 NFLX       1.214309               0.888269               -0.2717   \n",
       "           UNH        0.260285               0.067958               -0.2717   \n",
       "           NVDA       2.313531               1.978843               -0.2717   \n",
       "           JNJ        0.210629               0.034038               -0.2717   \n",
       "           AMZN       1.392119               1.222697               -0.2717   \n",
       "           JPM        0.649675               0.289884               -0.2717   \n",
       "           XOM        0.360800               0.113143               -0.2717   \n",
       "           META       1.642894               1.374855               -0.2717   \n",
       "           PG         0.210428               0.069944               -0.2717   \n",
       "           GOOG       1.054726               0.799660               -0.2717   \n",
       "2025-06-18 NFLX       0.851564               2.358190               -0.0151   \n",
       "           UNH        0.074634               0.033257               -0.0151   \n",
       "           NVDA       1.735625              10.080889               -0.0151   \n",
       "           JNJ        0.060335               0.016834               -0.0151   \n",
       "           AMZN       1.279137               3.513351               -0.0151   \n",
       "           JPM        0.880639               1.171799               -0.0151   \n",
       "           XOM        0.494864               0.135292               -0.0151   \n",
       "           META       1.407166               3.278997               -0.0151   \n",
       "           PG         0.229182               0.020856               -0.0151   \n",
       "           GOOG       1.004298               2.542633               -0.0151   \n",
       "\n",
       "                   market_hedge_wt  ...  residual_risk_pct  residual_variance  \\\n",
       "date       ticker                   ...                                         \n",
       "2024-06-20 NFLX          -0.349668  ...           0.786658           3.763805   \n",
       "           UNH            0.306780  ...           0.790310           1.422803   \n",
       "           NVDA           0.226663  ...           0.564516           4.118030   \n",
       "           JNJ            0.352062  ...           0.689132           0.679718   \n",
       "           AMZN          -1.162033  ...           0.492831           1.563645   \n",
       "           JPM            0.317958  ...           0.376751           0.446336   \n",
       "           XOM            0.137289  ...           0.165573           0.290912   \n",
       "           META          -1.117967  ...           0.695895           3.502693   \n",
       "           PG             0.128124  ...           0.412532           0.330321   \n",
       "           GOOG          -0.501319  ...           0.713915           2.205363   \n",
       "2025-06-18 NFLX          -0.192046  ...           0.535944           2.802031   \n",
       "           UNH            0.398199  ...           0.890044           6.675173   \n",
       "           NVDA           2.060896  ...           0.158229           2.481830   \n",
       "           JNJ            0.445120  ...           0.516773           0.821067   \n",
       "           AMZN          -0.188224  ...           0.291277           1.539939   \n",
       "           JPM           -0.009384  ...           0.250961           0.708492   \n",
       "           XOM            0.270638  ...           0.171096           0.377490   \n",
       "           META          -0.727360  ...           0.421752           2.425213   \n",
       "           PG             0.166666  ...           0.430315           0.579874   \n",
       "           GOOG          -0.233984  ...           0.471577           2.308334   \n",
       "\n",
       "                   return  sector_beta  sector_contr_variance  sector_etf  \\\n",
       "date       ticker                                                           \n",
       "2024-06-20 NFLX   -0.9684     0.660518               0.112593         XLK   \n",
       "           UNH     0.7213     1.001497               0.302391         XLV   \n",
       "           NVDA   -3.5403     1.940512               1.086636         XLK   \n",
       "           JNJ     1.4624     0.993774               0.266834         XLV   \n",
       "           AMZN    1.7997     0.195762               0.378789         XLY   \n",
       "           JPM     0.8477     1.238143               0.411558         XLF   \n",
       "           XOM     2.1576     1.091273               1.329946         XLE   \n",
       "           META    0.4425     0.401003               0.140254         XLK   \n",
       "           PG     -0.5280     0.907215               0.395385         XLP   \n",
       "           GOOG    0.7141     0.422760               0.073169         XLK   \n",
       "2025-06-18 NFLX    0.1327     0.514257               0.057138         XLK   \n",
       "           UNH    -0.5407     0.946002               0.789452         XLV   \n",
       "           NVDA    0.9437     2.960326               2.994926         XLK   \n",
       "           JNJ    -1.0828     1.011271               0.749258         XLV   \n",
       "           AMZN   -1.0707     0.922753               0.200442         XLY   \n",
       "           JPM     1.6474     1.070058               0.899570         XLF   \n",
       "           XOM    -0.7105     0.996839               1.664697         XLE   \n",
       "           META   -0.2094     0.530078               0.028504         XLK   \n",
       "           PG     -0.3154     1.117728               0.740030         XLP   \n",
       "           GOOG   -1.8338     0.600650               0.029188         XLK   \n",
       "\n",
       "                   sector_factor_beta  sector_factor_return sector_hedge_wt  \\\n",
       "date       ticker                                                             \n",
       "2024-06-20 NFLX              0.660518             -0.767836       -0.660518   \n",
       "           UNH               1.001497              0.482741       -1.001497   \n",
       "           NVDA              1.940512             -0.767836       -1.940512   \n",
       "           JNJ               0.993774              0.482741       -0.993774   \n",
       "           AMZN              0.195762              0.446539       -0.195762   \n",
       "           JPM               1.238143              0.745439       -1.238143   \n",
       "           XOM               1.091273              1.962912       -1.091273   \n",
       "           META              0.401003             -0.767836       -0.401003   \n",
       "           PG                0.907215             -0.117208       -0.907215   \n",
       "           GOOG              0.422760             -0.767836       -0.422760   \n",
       "2025-06-18 NFLX              0.514257              0.139565       -0.514257   \n",
       "           UNH               0.946002             -0.164753       -0.946002   \n",
       "           NVDA              2.960326              0.139565       -2.960326   \n",
       "           JNJ               1.011271             -0.164753       -1.011271   \n",
       "           AMZN              0.922753              0.065352       -0.922753   \n",
       "           JPM               1.070058             -0.027505       -1.070058   \n",
       "           XOM               0.996839             -0.642604       -0.996839   \n",
       "           META              0.530078              0.139565       -0.530078   \n",
       "           PG                1.117728             -0.118852       -1.117728   \n",
       "           GOOG              0.600650              0.139565       -0.600650   \n",
       "\n",
       "                   sector_risk_pct  \n",
       "date       ticker                   \n",
       "2024-06-20 NFLX           0.023533  \n",
       "           UNH            0.167966  \n",
       "           NVDA           0.148960  \n",
       "           JNJ            0.270530  \n",
       "           AMZN           0.119387  \n",
       "           JPM            0.347395  \n",
       "           XOM            0.756938  \n",
       "           META           0.027865  \n",
       "           PG             0.493790  \n",
       "           GOOG           0.023686  \n",
       "2025-06-18 NFLX           0.010929  \n",
       "           UNH            0.105263  \n",
       "           NVDA           0.190942  \n",
       "           JNJ            0.471577  \n",
       "           AMZN           0.037913  \n",
       "           JPM            0.318645  \n",
       "           XOM            0.754519  \n",
       "           META           0.004957  \n",
       "           PG             0.549164  \n",
       "           GOOG           0.005963  \n",
       "\n",
       "[20 rows x 23 columns]"
      ]
     },
     "metadata": {},
     "output_type": "display_data"
    }
   ],
   "source": [
    "# Check that the data is loaded correctly\n",
    "display(pd.concat([rm_demo_df.head(10), rm_demo_df.tail(10)]))"
   ]
  },
  {
   "cell_type": "code",
   "execution_count": 13,
   "id": "ab82ac14-3261-4156-a568-ff422bee6231",
   "metadata": {},
   "outputs": [],
   "source": [
    "# Test the optimizer using equal weighted historical calculations of mean variance\n",
    "classic_mvo = PortfolioOptimizer.ClassicOptimizer(rm_demo_ds)"
   ]
  },
  {
   "cell_type": "code",
   "execution_count": 14,
   "id": "8bf4ab00-a845-40f9-a4c2-607f58ab17c4",
   "metadata": {},
   "outputs": [],
   "source": [
    "# Optimize on residual returns, portfolio is not leveraged\n",
    "classic_mvo.optimize(returns_col='residual_return', LongOnly=False)"
   ]
  },
  {
   "cell_type": "code",
   "execution_count": 16,
   "id": "d781dcb4-a7ec-4ee0-b4fa-958692aad30f",
   "metadata": {
    "scrolled": true
   },
   "outputs": [
    {
     "data": {
      "application/vnd.plotly.v1+json": {
       "config": {
        "plotlyServerURL": "https://plot.ly"
       },
       "data": [
        {
         "hoverinfo": "skip",
         "line": {
          "color": "lightgray",
          "width": 2
         },
         "mode": "lines",
         "showlegend": false,
         "type": "scatter",
         "x": [
          0,
          -0.10861313365065754
         ],
         "y": [
          0,
          0
         ]
        },
        {
         "hoverinfo": "skip",
         "line": {
          "color": "lightgray",
          "width": 2
         },
         "mode": "lines",
         "showlegend": false,
         "type": "scatter",
         "x": [
          0,
          -0.09138686346671858
         ],
         "y": [
          1,
          1
         ]
        },
        {
         "hoverinfo": "skip",
         "line": {
          "color": "lightgray",
          "width": 2
         },
         "mode": "lines",
         "showlegend": false,
         "type": "scatter",
         "x": [
          0,
          0.010973636143857917
         ],
         "y": [
          2,
          2
         ]
        },
        {
         "hoverinfo": "skip",
         "line": {
          "color": "lightgray",
          "width": 2
         },
         "mode": "lines",
         "showlegend": false,
         "type": "scatter",
         "x": [
          0,
          0.03353049725968482
         ],
         "y": [
          3,
          3
         ]
        },
        {
         "hoverinfo": "skip",
         "line": {
          "color": "lightgray",
          "width": 2
         },
         "mode": "lines",
         "showlegend": false,
         "type": "scatter",
         "x": [
          0,
          0.06606129689728897
         ],
         "y": [
          4,
          4
         ]
        },
        {
         "hoverinfo": "skip",
         "line": {
          "color": "lightgray",
          "width": 2
         },
         "mode": "lines",
         "showlegend": false,
         "type": "scatter",
         "x": [
          0,
          0.12917397690868934
         ],
         "y": [
          5,
          5
         ]
        },
        {
         "hoverinfo": "skip",
         "line": {
          "color": "lightgray",
          "width": 2
         },
         "mode": "lines",
         "showlegend": false,
         "type": "scatter",
         "x": [
          0,
          0.17847323338433707
         ],
         "y": [
          6,
          6
         ]
        },
        {
         "hoverinfo": "skip",
         "line": {
          "color": "lightgray",
          "width": 2
         },
         "mode": "lines",
         "showlegend": false,
         "type": "scatter",
         "x": [
          0,
          0.20591424999213087
         ],
         "y": [
          7,
          7
         ]
        },
        {
         "hoverinfo": "skip",
         "line": {
          "color": "lightgray",
          "width": 2
         },
         "mode": "lines",
         "showlegend": false,
         "type": "scatter",
         "x": [
          0,
          0.2228594360944757
         ],
         "y": [
          8,
          8
         ]
        },
        {
         "hoverinfo": "skip",
         "line": {
          "color": "lightgray",
          "width": 2
         },
         "mode": "lines",
         "showlegend": false,
         "type": "scatter",
         "x": [
          0,
          0.3530136704369115
         ],
         "y": [
          9,
          9
         ]
        },
        {
         "hovertemplate": "%{text}<extra></extra>",
         "marker": {
          "color": [
           "#ff7f0e",
           "#ff7f0e",
           "#1f77b4",
           "#1f77b4",
           "#1f77b4",
           "#1f77b4",
           "#1f77b4",
           "#1f77b4",
           "#1f77b4",
           "#1f77b4"
          ],
          "size": 10
         },
         "mode": "markers+text",
         "showlegend": false,
         "text": [
          "-10.9%  PG",
          "-9.1%  GOOG",
          "1.1%  UNH",
          "3.4%  AMZN",
          "6.6%  NVDA",
          "12.9%  META",
          "17.8%  XOM",
          "20.6%  JPM",
          "22.3%  NFLX",
          "35.3%  JNJ"
         ],
         "textfont": {
          "color": [
           "#ff7f0e",
           "#ff7f0e",
           "#1f77b4",
           "#1f77b4",
           "#1f77b4",
           "#1f77b4",
           "#1f77b4",
           "#1f77b4",
           "#1f77b4",
           "#1f77b4"
          ],
          "size": 10
         },
         "textposition": [
          "middle left",
          "middle left",
          "middle right",
          "middle right",
          "middle right",
          "middle right",
          "middle right",
          "middle right",
          "middle right",
          "middle right"
         ],
         "type": "scatter",
         "x": {
          "bdata": "MxbyABLOu7+Dot8lIWW3v/Y82YJYeYY/AEVMyugqoT8liLSlZOmwPxOWKNvFiMA/4G1M/jXYxj+ej7/sZVvKPz290HKohsw/N1FkpsaX1j8=",
          "dtype": "f8"
         },
         "y": [
          0,
          1,
          2,
          3,
          4,
          5,
          6,
          7,
          8,
          9
         ]
        }
       ],
       "layout": {
        "height": 400,
        "margin": {
         "b": 40,
         "l": 120,
         "r": 120,
         "t": 60
        },
        "plot_bgcolor": "white",
        "template": {
         "data": {
          "bar": [
           {
            "error_x": {
             "color": "#2a3f5f"
            },
            "error_y": {
             "color": "#2a3f5f"
            },
            "marker": {
             "line": {
              "color": "#E5ECF6",
              "width": 0.5
             },
             "pattern": {
              "fillmode": "overlay",
              "size": 10,
              "solidity": 0.2
             }
            },
            "type": "bar"
           }
          ],
          "barpolar": [
           {
            "marker": {
             "line": {
              "color": "#E5ECF6",
              "width": 0.5
             },
             "pattern": {
              "fillmode": "overlay",
              "size": 10,
              "solidity": 0.2
             }
            },
            "type": "barpolar"
           }
          ],
          "carpet": [
           {
            "aaxis": {
             "endlinecolor": "#2a3f5f",
             "gridcolor": "white",
             "linecolor": "white",
             "minorgridcolor": "white",
             "startlinecolor": "#2a3f5f"
            },
            "baxis": {
             "endlinecolor": "#2a3f5f",
             "gridcolor": "white",
             "linecolor": "white",
             "minorgridcolor": "white",
             "startlinecolor": "#2a3f5f"
            },
            "type": "carpet"
           }
          ],
          "choropleth": [
           {
            "colorbar": {
             "outlinewidth": 0,
             "ticks": ""
            },
            "type": "choropleth"
           }
          ],
          "contour": [
           {
            "colorbar": {
             "outlinewidth": 0,
             "ticks": ""
            },
            "colorscale": [
             [
              0,
              "#0d0887"
             ],
             [
              0.1111111111111111,
              "#46039f"
             ],
             [
              0.2222222222222222,
              "#7201a8"
             ],
             [
              0.3333333333333333,
              "#9c179e"
             ],
             [
              0.4444444444444444,
              "#bd3786"
             ],
             [
              0.5555555555555556,
              "#d8576b"
             ],
             [
              0.6666666666666666,
              "#ed7953"
             ],
             [
              0.7777777777777778,
              "#fb9f3a"
             ],
             [
              0.8888888888888888,
              "#fdca26"
             ],
             [
              1,
              "#f0f921"
             ]
            ],
            "type": "contour"
           }
          ],
          "contourcarpet": [
           {
            "colorbar": {
             "outlinewidth": 0,
             "ticks": ""
            },
            "type": "contourcarpet"
           }
          ],
          "heatmap": [
           {
            "colorbar": {
             "outlinewidth": 0,
             "ticks": ""
            },
            "colorscale": [
             [
              0,
              "#0d0887"
             ],
             [
              0.1111111111111111,
              "#46039f"
             ],
             [
              0.2222222222222222,
              "#7201a8"
             ],
             [
              0.3333333333333333,
              "#9c179e"
             ],
             [
              0.4444444444444444,
              "#bd3786"
             ],
             [
              0.5555555555555556,
              "#d8576b"
             ],
             [
              0.6666666666666666,
              "#ed7953"
             ],
             [
              0.7777777777777778,
              "#fb9f3a"
             ],
             [
              0.8888888888888888,
              "#fdca26"
             ],
             [
              1,
              "#f0f921"
             ]
            ],
            "type": "heatmap"
           }
          ],
          "histogram": [
           {
            "marker": {
             "pattern": {
              "fillmode": "overlay",
              "size": 10,
              "solidity": 0.2
             }
            },
            "type": "histogram"
           }
          ],
          "histogram2d": [
           {
            "colorbar": {
             "outlinewidth": 0,
             "ticks": ""
            },
            "colorscale": [
             [
              0,
              "#0d0887"
             ],
             [
              0.1111111111111111,
              "#46039f"
             ],
             [
              0.2222222222222222,
              "#7201a8"
             ],
             [
              0.3333333333333333,
              "#9c179e"
             ],
             [
              0.4444444444444444,
              "#bd3786"
             ],
             [
              0.5555555555555556,
              "#d8576b"
             ],
             [
              0.6666666666666666,
              "#ed7953"
             ],
             [
              0.7777777777777778,
              "#fb9f3a"
             ],
             [
              0.8888888888888888,
              "#fdca26"
             ],
             [
              1,
              "#f0f921"
             ]
            ],
            "type": "histogram2d"
           }
          ],
          "histogram2dcontour": [
           {
            "colorbar": {
             "outlinewidth": 0,
             "ticks": ""
            },
            "colorscale": [
             [
              0,
              "#0d0887"
             ],
             [
              0.1111111111111111,
              "#46039f"
             ],
             [
              0.2222222222222222,
              "#7201a8"
             ],
             [
              0.3333333333333333,
              "#9c179e"
             ],
             [
              0.4444444444444444,
              "#bd3786"
             ],
             [
              0.5555555555555556,
              "#d8576b"
             ],
             [
              0.6666666666666666,
              "#ed7953"
             ],
             [
              0.7777777777777778,
              "#fb9f3a"
             ],
             [
              0.8888888888888888,
              "#fdca26"
             ],
             [
              1,
              "#f0f921"
             ]
            ],
            "type": "histogram2dcontour"
           }
          ],
          "mesh3d": [
           {
            "colorbar": {
             "outlinewidth": 0,
             "ticks": ""
            },
            "type": "mesh3d"
           }
          ],
          "parcoords": [
           {
            "line": {
             "colorbar": {
              "outlinewidth": 0,
              "ticks": ""
             }
            },
            "type": "parcoords"
           }
          ],
          "pie": [
           {
            "automargin": true,
            "type": "pie"
           }
          ],
          "scatter": [
           {
            "fillpattern": {
             "fillmode": "overlay",
             "size": 10,
             "solidity": 0.2
            },
            "type": "scatter"
           }
          ],
          "scatter3d": [
           {
            "line": {
             "colorbar": {
              "outlinewidth": 0,
              "ticks": ""
             }
            },
            "marker": {
             "colorbar": {
              "outlinewidth": 0,
              "ticks": ""
             }
            },
            "type": "scatter3d"
           }
          ],
          "scattercarpet": [
           {
            "marker": {
             "colorbar": {
              "outlinewidth": 0,
              "ticks": ""
             }
            },
            "type": "scattercarpet"
           }
          ],
          "scattergeo": [
           {
            "marker": {
             "colorbar": {
              "outlinewidth": 0,
              "ticks": ""
             }
            },
            "type": "scattergeo"
           }
          ],
          "scattergl": [
           {
            "marker": {
             "colorbar": {
              "outlinewidth": 0,
              "ticks": ""
             }
            },
            "type": "scattergl"
           }
          ],
          "scattermap": [
           {
            "marker": {
             "colorbar": {
              "outlinewidth": 0,
              "ticks": ""
             }
            },
            "type": "scattermap"
           }
          ],
          "scattermapbox": [
           {
            "marker": {
             "colorbar": {
              "outlinewidth": 0,
              "ticks": ""
             }
            },
            "type": "scattermapbox"
           }
          ],
          "scatterpolar": [
           {
            "marker": {
             "colorbar": {
              "outlinewidth": 0,
              "ticks": ""
             }
            },
            "type": "scatterpolar"
           }
          ],
          "scatterpolargl": [
           {
            "marker": {
             "colorbar": {
              "outlinewidth": 0,
              "ticks": ""
             }
            },
            "type": "scatterpolargl"
           }
          ],
          "scatterternary": [
           {
            "marker": {
             "colorbar": {
              "outlinewidth": 0,
              "ticks": ""
             }
            },
            "type": "scatterternary"
           }
          ],
          "surface": [
           {
            "colorbar": {
             "outlinewidth": 0,
             "ticks": ""
            },
            "colorscale": [
             [
              0,
              "#0d0887"
             ],
             [
              0.1111111111111111,
              "#46039f"
             ],
             [
              0.2222222222222222,
              "#7201a8"
             ],
             [
              0.3333333333333333,
              "#9c179e"
             ],
             [
              0.4444444444444444,
              "#bd3786"
             ],
             [
              0.5555555555555556,
              "#d8576b"
             ],
             [
              0.6666666666666666,
              "#ed7953"
             ],
             [
              0.7777777777777778,
              "#fb9f3a"
             ],
             [
              0.8888888888888888,
              "#fdca26"
             ],
             [
              1,
              "#f0f921"
             ]
            ],
            "type": "surface"
           }
          ],
          "table": [
           {
            "cells": {
             "fill": {
              "color": "#EBF0F8"
             },
             "line": {
              "color": "white"
             }
            },
            "header": {
             "fill": {
              "color": "#C8D4E3"
             },
             "line": {
              "color": "white"
             }
            },
            "type": "table"
           }
          ]
         },
         "layout": {
          "annotationdefaults": {
           "arrowcolor": "#2a3f5f",
           "arrowhead": 0,
           "arrowwidth": 1
          },
          "autotypenumbers": "strict",
          "coloraxis": {
           "colorbar": {
            "outlinewidth": 0,
            "ticks": ""
           }
          },
          "colorscale": {
           "diverging": [
            [
             0,
             "#8e0152"
            ],
            [
             0.1,
             "#c51b7d"
            ],
            [
             0.2,
             "#de77ae"
            ],
            [
             0.3,
             "#f1b6da"
            ],
            [
             0.4,
             "#fde0ef"
            ],
            [
             0.5,
             "#f7f7f7"
            ],
            [
             0.6,
             "#e6f5d0"
            ],
            [
             0.7,
             "#b8e186"
            ],
            [
             0.8,
             "#7fbc41"
            ],
            [
             0.9,
             "#4d9221"
            ],
            [
             1,
             "#276419"
            ]
           ],
           "sequential": [
            [
             0,
             "#0d0887"
            ],
            [
             0.1111111111111111,
             "#46039f"
            ],
            [
             0.2222222222222222,
             "#7201a8"
            ],
            [
             0.3333333333333333,
             "#9c179e"
            ],
            [
             0.4444444444444444,
             "#bd3786"
            ],
            [
             0.5555555555555556,
             "#d8576b"
            ],
            [
             0.6666666666666666,
             "#ed7953"
            ],
            [
             0.7777777777777778,
             "#fb9f3a"
            ],
            [
             0.8888888888888888,
             "#fdca26"
            ],
            [
             1,
             "#f0f921"
            ]
           ],
           "sequentialminus": [
            [
             0,
             "#0d0887"
            ],
            [
             0.1111111111111111,
             "#46039f"
            ],
            [
             0.2222222222222222,
             "#7201a8"
            ],
            [
             0.3333333333333333,
             "#9c179e"
            ],
            [
             0.4444444444444444,
             "#bd3786"
            ],
            [
             0.5555555555555556,
             "#d8576b"
            ],
            [
             0.6666666666666666,
             "#ed7953"
            ],
            [
             0.7777777777777778,
             "#fb9f3a"
            ],
            [
             0.8888888888888888,
             "#fdca26"
            ],
            [
             1,
             "#f0f921"
            ]
           ]
          },
          "colorway": [
           "#636efa",
           "#EF553B",
           "#00cc96",
           "#ab63fa",
           "#FFA15A",
           "#19d3f3",
           "#FF6692",
           "#B6E880",
           "#FF97FF",
           "#FECB52"
          ],
          "font": {
           "color": "#2a3f5f"
          },
          "geo": {
           "bgcolor": "white",
           "lakecolor": "white",
           "landcolor": "#E5ECF6",
           "showlakes": true,
           "showland": true,
           "subunitcolor": "white"
          },
          "hoverlabel": {
           "align": "left"
          },
          "hovermode": "closest",
          "mapbox": {
           "style": "light"
          },
          "paper_bgcolor": "white",
          "plot_bgcolor": "#E5ECF6",
          "polar": {
           "angularaxis": {
            "gridcolor": "white",
            "linecolor": "white",
            "ticks": ""
           },
           "bgcolor": "#E5ECF6",
           "radialaxis": {
            "gridcolor": "white",
            "linecolor": "white",
            "ticks": ""
           }
          },
          "scene": {
           "xaxis": {
            "backgroundcolor": "#E5ECF6",
            "gridcolor": "white",
            "gridwidth": 2,
            "linecolor": "white",
            "showbackground": true,
            "ticks": "",
            "zerolinecolor": "white"
           },
           "yaxis": {
            "backgroundcolor": "#E5ECF6",
            "gridcolor": "white",
            "gridwidth": 2,
            "linecolor": "white",
            "showbackground": true,
            "ticks": "",
            "zerolinecolor": "white"
           },
           "zaxis": {
            "backgroundcolor": "#E5ECF6",
            "gridcolor": "white",
            "gridwidth": 2,
            "linecolor": "white",
            "showbackground": true,
            "ticks": "",
            "zerolinecolor": "white"
           }
          },
          "shapedefaults": {
           "line": {
            "color": "#2a3f5f"
           }
          },
          "ternary": {
           "aaxis": {
            "gridcolor": "white",
            "linecolor": "white",
            "ticks": ""
           },
           "baxis": {
            "gridcolor": "white",
            "linecolor": "white",
            "ticks": ""
           },
           "bgcolor": "#E5ECF6",
           "caxis": {
            "gridcolor": "white",
            "linecolor": "white",
            "ticks": ""
           }
          },
          "title": {
           "x": 0.05
          },
          "xaxis": {
           "automargin": true,
           "gridcolor": "white",
           "linecolor": "white",
           "ticks": "",
           "title": {
            "standoff": 15
           },
           "zerolinecolor": "white",
           "zerolinewidth": 2
          },
          "yaxis": {
           "automargin": true,
           "gridcolor": "white",
           "linecolor": "white",
           "ticks": "",
           "title": {
            "standoff": 15
           },
           "zerolinecolor": "white",
           "zerolinewidth": 2
          }
         }
        },
        "title": {
         "font": {
          "color": "black",
          "family": "Arial",
          "size": 16
         },
         "text": "Optimized Portfolio Weights",
         "x": 0.5,
         "xanchor": "center"
        },
        "xaxis": {
         "showgrid": false,
         "tickformat": ".0%",
         "title": {
          "text": "Weight"
         },
         "zeroline": true,
         "zerolinecolor": "black"
        },
        "yaxis": {
         "showgrid": false,
         "showticklabels": false,
         "zeroline": false
        }
       }
      },
      "image/png": "[encoded data removed]"
     },
     "metadata": {},
     "output_type": "display_data"
    }
   ],
   "source": [
    "# Visualize optimalized weights \n",
    "classic_mvo.plot_weights_plotly()"
   ]
  },
  {
   "cell_type": "code",
   "execution_count": 17,
   "id": "dc4e9781-00a1-47e5-a605-efa5996f51b3",
   "metadata": {},
   "outputs": [
    {
     "name": "stderr",
     "output_type": "stream",
     "text": [
      "/home/drew/projects/bwmacro/portfolio-optimizer-notebooks/utils/PortfolioOptimizer.py:160: UserWarning:\n",
      "\n",
      "No artists with labels found to put in legend.  Note that artists whose label start with an underscore are ignored when legend() is called with no argument.\n",
      "\n"
     ]
    }
   ],
   "source": [
    "classic_mvo.plot_frontier()"
   ]
  },
  {
   "cell_type": "code",
   "execution_count": 12,
   "id": "f6516c4c-3ab0-47bb-9113-88b39f4fc98c",
   "metadata": {},
   "outputs": [
    {
     "data": {
      "text/plain": [
       "weights    1.0\n",
       "dtype: float64"
      ]
     },
     "execution_count": 12,
     "metadata": {},
     "output_type": "execute_result"
    }
   ],
   "source": [
    "classic_mvo.w.sum()"
   ]
  },
  {
   "cell_type": "code",
   "execution_count": 13,
   "id": "f621121c-726d-4108-a0bf-c0966636c66a",
   "metadata": {},
   "outputs": [
    {
     "data": {
      "text/plain": [
       "1.0"
      ]
     },
     "execution_count": 13,
     "metadata": {},
     "output_type": "execute_result"
    }
   ],
   "source": [
    "classic_mvo.port.budget"
   ]
  },
  {
   "cell_type": "markdown",
   "id": "5a6a7317-5718-44a9-bfc8-7dd2a952e55c",
   "metadata": {},
   "source": [
    "### Construction of the Covariance Matrix (Σ)\n",
    "\n",
    "The total asset return covariance matrix **Σ** is constructed using the factor model equation:\n",
    "\n",
    "$$\n",
    "\\Sigma = BFB^\\top + D\n",
    "$$\n",
    "\n",
    "Where:\n",
    "\n",
    "* **B** is the matrix of asset exposures to systematic risk factors (e.g., market, sector).\n",
    "* **F** is the **factor covariance matrix**, computed from historical factor returns.\n",
    "* **D** is the **diagonal residual variance matrix**, containing the idiosyncratic risk of each asset.\n",
    "\n",
    "This formulation decomposes total risk into:\n",
    "\n",
    "* **Systematic risk**, driven by common factor exposures (captured by $BFB^\\top$),\n",
    "* **Idiosyncratic risk**, unique to each asset (captured by D)."
   ]
  },
  {
   "cell_type": "markdown",
   "id": "0669cfe5-3068-4954-b1ed-8dea13958b04",
   "metadata": {},
   "source": [
    "### Construction of Expected Returns (μ)\n",
    "\n",
    "In this model, the expected return vector **μ** is calculated using the equation:\n",
    "\n",
    "$$\n",
    "\\mu = B \\cdot f\n",
    "$$\n",
    "\n",
    "Where:\n",
    "\n",
    "* **B** is the matrix of asset exposures to systematic risk factors (e.g., market, sectors).\n",
    "* **f** is the vector of expected returns for each factor, typically computed as the average of trailing factor returns.\n",
    "\n",
    "This approach estimates the **gross expected return** of each asset **based solely on its factor exposures**.\n",
    "It **does not include residual (idiosyncratic) components**, which are captured separately in the residual variance matrix **D**."
   ]
  },
  {
   "cell_type": "code",
   "execution_count": 14,
   "id": "7d713a5a-6390-41bf-b4b3-63aca61f73a1",
   "metadata": {},
   "outputs": [],
   "source": [
    "factor_model = PortfolioOptimizer.FactorModelOptimizer(rm_demo_ds)"
   ]
  },
  {
   "cell_type": "code",
   "execution_count": 15,
   "id": "d8631f75-1229-4e21-99e8-3051c015152d",
   "metadata": {},
   "outputs": [],
   "source": [
    "factor_model.validate_config() # Accept FM defaults\n",
    "factor_model.calculate_fm_cov()"
   ]
  },
  {
   "cell_type": "code",
   "execution_count": 16,
   "id": "6de9f568-ffa1-48ac-b3d9-f1b919d1359e",
   "metadata": {},
   "outputs": [
    {
     "data": {
      "text/html": [
       "<div>\n",
       "<style scoped>\n",
       "    .dataframe tbody tr th:only-of-type {\n",
       "        vertical-align: middle;\n",
       "    }\n",
       "\n",
       "    .dataframe tbody tr th {\n",
       "        vertical-align: top;\n",
       "    }\n",
       "\n",
       "    .dataframe thead th {\n",
       "        text-align: right;\n",
       "    }\n",
       "</style>\n",
       "<table border=\"1\" class=\"dataframe\">\n",
       "  <thead>\n",
       "    <tr style=\"text-align: right;\">\n",
       "      <th></th>\n",
       "      <th>market_beta</th>\n",
       "      <th>Consumer_Discretionary</th>\n",
       "      <th>Consumer_Staples</th>\n",
       "      <th>Energy</th>\n",
       "      <th>Financials</th>\n",
       "      <th>Health_Care</th>\n",
       "      <th>Information_Technology</th>\n",
       "    </tr>\n",
       "    <tr>\n",
       "      <th>ticker</th>\n",
       "      <th></th>\n",
       "      <th></th>\n",
       "      <th></th>\n",
       "      <th></th>\n",
       "      <th></th>\n",
       "      <th></th>\n",
       "      <th></th>\n",
       "    </tr>\n",
       "  </thead>\n",
       "  <tbody>\n",
       "    <tr>\n",
       "      <th>AMZN</th>\n",
       "      <td>1.279137</td>\n",
       "      <td>0.922753</td>\n",
       "      <td>0.000000</td>\n",
       "      <td>0.000000</td>\n",
       "      <td>0.000000</td>\n",
       "      <td>0.000000</td>\n",
       "      <td>0.000000</td>\n",
       "    </tr>\n",
       "    <tr>\n",
       "      <th>GOOG</th>\n",
       "      <td>1.004298</td>\n",
       "      <td>0.000000</td>\n",
       "      <td>0.000000</td>\n",
       "      <td>0.000000</td>\n",
       "      <td>0.000000</td>\n",
       "      <td>0.000000</td>\n",
       "      <td>0.600650</td>\n",
       "    </tr>\n",
       "    <tr>\n",
       "      <th>JNJ</th>\n",
       "      <td>0.060335</td>\n",
       "      <td>0.000000</td>\n",
       "      <td>0.000000</td>\n",
       "      <td>0.000000</td>\n",
       "      <td>0.000000</td>\n",
       "      <td>1.011271</td>\n",
       "      <td>0.000000</td>\n",
       "    </tr>\n",
       "    <tr>\n",
       "      <th>JPM</th>\n",
       "      <td>0.880639</td>\n",
       "      <td>0.000000</td>\n",
       "      <td>0.000000</td>\n",
       "      <td>0.000000</td>\n",
       "      <td>1.070058</td>\n",
       "      <td>0.000000</td>\n",
       "      <td>0.000000</td>\n",
       "    </tr>\n",
       "    <tr>\n",
       "      <th>META</th>\n",
       "      <td>1.407166</td>\n",
       "      <td>0.000000</td>\n",
       "      <td>0.000000</td>\n",
       "      <td>0.000000</td>\n",
       "      <td>0.000000</td>\n",
       "      <td>0.000000</td>\n",
       "      <td>0.530078</td>\n",
       "    </tr>\n",
       "    <tr>\n",
       "      <th>NFLX</th>\n",
       "      <td>0.851564</td>\n",
       "      <td>0.000000</td>\n",
       "      <td>0.000000</td>\n",
       "      <td>0.000000</td>\n",
       "      <td>0.000000</td>\n",
       "      <td>0.000000</td>\n",
       "      <td>0.514257</td>\n",
       "    </tr>\n",
       "    <tr>\n",
       "      <th>NVDA</th>\n",
       "      <td>1.735625</td>\n",
       "      <td>0.000000</td>\n",
       "      <td>0.000000</td>\n",
       "      <td>0.000000</td>\n",
       "      <td>0.000000</td>\n",
       "      <td>0.000000</td>\n",
       "      <td>2.960326</td>\n",
       "    </tr>\n",
       "    <tr>\n",
       "      <th>PG</th>\n",
       "      <td>0.229182</td>\n",
       "      <td>0.000000</td>\n",
       "      <td>1.117728</td>\n",
       "      <td>0.000000</td>\n",
       "      <td>0.000000</td>\n",
       "      <td>0.000000</td>\n",
       "      <td>0.000000</td>\n",
       "    </tr>\n",
       "    <tr>\n",
       "      <th>UNH</th>\n",
       "      <td>0.074634</td>\n",
       "      <td>0.000000</td>\n",
       "      <td>0.000000</td>\n",
       "      <td>0.000000</td>\n",
       "      <td>0.000000</td>\n",
       "      <td>0.946002</td>\n",
       "      <td>0.000000</td>\n",
       "    </tr>\n",
       "    <tr>\n",
       "      <th>XOM</th>\n",
       "      <td>0.494864</td>\n",
       "      <td>0.000000</td>\n",
       "      <td>0.000000</td>\n",
       "      <td>0.996839</td>\n",
       "      <td>0.000000</td>\n",
       "      <td>0.000000</td>\n",
       "      <td>0.000000</td>\n",
       "    </tr>\n",
       "  </tbody>\n",
       "</table>\n",
       "</div>"
      ],
      "text/plain": [
       "        market_beta  Consumer_Discretionary  Consumer_Staples    Energy  \\\n",
       "ticker                                                                    \n",
       "AMZN       1.279137                0.922753          0.000000  0.000000   \n",
       "GOOG       1.004298                0.000000          0.000000  0.000000   \n",
       "JNJ        0.060335                0.000000          0.000000  0.000000   \n",
       "JPM        0.880639                0.000000          0.000000  0.000000   \n",
       "META       1.407166                0.000000          0.000000  0.000000   \n",
       "NFLX       0.851564                0.000000          0.000000  0.000000   \n",
       "NVDA       1.735625                0.000000          0.000000  0.000000   \n",
       "PG         0.229182                0.000000          1.117728  0.000000   \n",
       "UNH        0.074634                0.000000          0.000000  0.000000   \n",
       "XOM        0.494864                0.000000          0.000000  0.996839   \n",
       "\n",
       "        Financials  Health_Care  Information_Technology  \n",
       "ticker                                                   \n",
       "AMZN      0.000000     0.000000                0.000000  \n",
       "GOOG      0.000000     0.000000                0.600650  \n",
       "JNJ       0.000000     1.011271                0.000000  \n",
       "JPM       1.070058     0.000000                0.000000  \n",
       "META      0.000000     0.000000                0.530078  \n",
       "NFLX      0.000000     0.000000                0.514257  \n",
       "NVDA      0.000000     0.000000                2.960326  \n",
       "PG        0.000000     0.000000                0.000000  \n",
       "UNH       0.000000     0.946002                0.000000  \n",
       "XOM       0.000000     0.000000                0.000000  "
      ]
     },
     "execution_count": 16,
     "metadata": {},
     "output_type": "execute_result"
    }
   ],
   "source": [
    "factor_model.B"
   ]
  },
  {
   "cell_type": "code",
   "execution_count": 17,
   "id": "2a51fb71-10d4-49da-8f60-49c637fccc3c",
   "metadata": {},
   "outputs": [
    {
     "data": {
      "text/html": [
       "<div>\n",
       "<style scoped>\n",
       "    .dataframe tbody tr th:only-of-type {\n",
       "        vertical-align: middle;\n",
       "    }\n",
       "\n",
       "    .dataframe tbody tr th {\n",
       "        vertical-align: top;\n",
       "    }\n",
       "\n",
       "    .dataframe thead th {\n",
       "        text-align: right;\n",
       "    }\n",
       "</style>\n",
       "<table border=\"1\" class=\"dataframe\">\n",
       "  <thead>\n",
       "    <tr style=\"text-align: right;\">\n",
       "      <th></th>\n",
       "      <th>f</th>\n",
       "    </tr>\n",
       "  </thead>\n",
       "  <tbody>\n",
       "    <tr>\n",
       "      <th>Market</th>\n",
       "      <td>0.000475</td>\n",
       "    </tr>\n",
       "    <tr>\n",
       "      <th>Consumer_Discretionary</th>\n",
       "      <td>0.000245</td>\n",
       "    </tr>\n",
       "    <tr>\n",
       "      <th>Consumer_Staples</th>\n",
       "      <td>0.000098</td>\n",
       "    </tr>\n",
       "    <tr>\n",
       "      <th>Energy</th>\n",
       "      <td>-0.000025</td>\n",
       "    </tr>\n",
       "    <tr>\n",
       "      <th>Financials</th>\n",
       "      <td>0.000589</td>\n",
       "    </tr>\n",
       "    <tr>\n",
       "      <th>Health_Care</th>\n",
       "      <td>-0.000476</td>\n",
       "    </tr>\n",
       "    <tr>\n",
       "      <th>Information_Technology</th>\n",
       "      <td>-0.000282</td>\n",
       "    </tr>\n",
       "  </tbody>\n",
       "</table>\n",
       "</div>"
      ],
      "text/plain": [
       "                               f\n",
       "Market                  0.000475\n",
       "Consumer_Discretionary  0.000245\n",
       "Consumer_Staples        0.000098\n",
       "Energy                 -0.000025\n",
       "Financials              0.000589\n",
       "Health_Care            -0.000476\n",
       "Information_Technology -0.000282"
      ]
     },
     "execution_count": 17,
     "metadata": {},
     "output_type": "execute_result"
    }
   ],
   "source": [
    "factor_model.f"
   ]
  },
  {
   "cell_type": "code",
   "execution_count": 18,
   "id": "537051d5-e56f-4985-900c-2b98aaf90e35",
   "metadata": {},
   "outputs": [
    {
     "data": {
      "text/html": [
       "<div>\n",
       "<style scoped>\n",
       "    .dataframe tbody tr th:only-of-type {\n",
       "        vertical-align: middle;\n",
       "    }\n",
       "\n",
       "    .dataframe tbody tr th {\n",
       "        vertical-align: top;\n",
       "    }\n",
       "\n",
       "    .dataframe thead th {\n",
       "        text-align: right;\n",
       "    }\n",
       "</style>\n",
       "<table border=\"1\" class=\"dataframe\">\n",
       "  <thead>\n",
       "    <tr style=\"text-align: right;\">\n",
       "      <th></th>\n",
       "      <th>Market</th>\n",
       "      <th>Consumer_Discretionary</th>\n",
       "      <th>Consumer_Staples</th>\n",
       "      <th>Energy</th>\n",
       "      <th>Financials</th>\n",
       "      <th>Health_Care</th>\n",
       "      <th>Information_Technology</th>\n",
       "    </tr>\n",
       "  </thead>\n",
       "  <tbody>\n",
       "    <tr>\n",
       "      <th>Market</th>\n",
       "      <td>0.000167</td>\n",
       "      <td>-2.372305e-05</td>\n",
       "      <td>-0.000003</td>\n",
       "      <td>0.000040</td>\n",
       "      <td>9.363876e-06</td>\n",
       "      <td>0.000014</td>\n",
       "      <td>-0.000015</td>\n",
       "    </tr>\n",
       "    <tr>\n",
       "      <th>Consumer_Discretionary</th>\n",
       "      <td>-0.000024</td>\n",
       "      <td>5.605051e-05</td>\n",
       "      <td>-0.000003</td>\n",
       "      <td>-0.000020</td>\n",
       "      <td>-2.287985e-07</td>\n",
       "      <td>-0.000013</td>\n",
       "      <td>-0.000003</td>\n",
       "    </tr>\n",
       "    <tr>\n",
       "      <th>Consumer_Staples</th>\n",
       "      <td>-0.000003</td>\n",
       "      <td>-2.947498e-06</td>\n",
       "      <td>0.000061</td>\n",
       "      <td>0.000003</td>\n",
       "      <td>1.565338e-05</td>\n",
       "      <td>0.000035</td>\n",
       "      <td>-0.000031</td>\n",
       "    </tr>\n",
       "    <tr>\n",
       "      <th>Energy</th>\n",
       "      <td>0.000040</td>\n",
       "      <td>-2.028537e-05</td>\n",
       "      <td>0.000003</td>\n",
       "      <td>0.000162</td>\n",
       "      <td>2.948123e-05</td>\n",
       "      <td>0.000010</td>\n",
       "      <td>-0.000029</td>\n",
       "    </tr>\n",
       "    <tr>\n",
       "      <th>Financials</th>\n",
       "      <td>0.000009</td>\n",
       "      <td>-2.287985e-07</td>\n",
       "      <td>0.000016</td>\n",
       "      <td>0.000029</td>\n",
       "      <td>5.560873e-05</td>\n",
       "      <td>0.000015</td>\n",
       "      <td>-0.000031</td>\n",
       "    </tr>\n",
       "    <tr>\n",
       "      <th>Health_Care</th>\n",
       "      <td>0.000014</td>\n",
       "      <td>-1.253157e-05</td>\n",
       "      <td>0.000035</td>\n",
       "      <td>0.000010</td>\n",
       "      <td>1.471170e-05</td>\n",
       "      <td>0.000067</td>\n",
       "      <td>-0.000030</td>\n",
       "    </tr>\n",
       "    <tr>\n",
       "      <th>Information_Technology</th>\n",
       "      <td>-0.000015</td>\n",
       "      <td>-3.170185e-06</td>\n",
       "      <td>-0.000031</td>\n",
       "      <td>-0.000029</td>\n",
       "      <td>-3.148435e-05</td>\n",
       "      <td>-0.000030</td>\n",
       "      <td>0.000047</td>\n",
       "    </tr>\n",
       "  </tbody>\n",
       "</table>\n",
       "</div>"
      ],
      "text/plain": [
       "                          Market  Consumer_Discretionary  Consumer_Staples  \\\n",
       "Market                  0.000167           -2.372305e-05         -0.000003   \n",
       "Consumer_Discretionary -0.000024            5.605051e-05         -0.000003   \n",
       "Consumer_Staples       -0.000003           -2.947498e-06          0.000061   \n",
       "Energy                  0.000040           -2.028537e-05          0.000003   \n",
       "Financials              0.000009           -2.287985e-07          0.000016   \n",
       "Health_Care             0.000014           -1.253157e-05          0.000035   \n",
       "Information_Technology -0.000015           -3.170185e-06         -0.000031   \n",
       "\n",
       "                          Energy    Financials  Health_Care  \\\n",
       "Market                  0.000040  9.363876e-06     0.000014   \n",
       "Consumer_Discretionary -0.000020 -2.287985e-07    -0.000013   \n",
       "Consumer_Staples        0.000003  1.565338e-05     0.000035   \n",
       "Energy                  0.000162  2.948123e-05     0.000010   \n",
       "Financials              0.000029  5.560873e-05     0.000015   \n",
       "Health_Care             0.000010  1.471170e-05     0.000067   \n",
       "Information_Technology -0.000029 -3.148435e-05    -0.000030   \n",
       "\n",
       "                        Information_Technology  \n",
       "Market                               -0.000015  \n",
       "Consumer_Discretionary               -0.000003  \n",
       "Consumer_Staples                     -0.000031  \n",
       "Energy                               -0.000029  \n",
       "Financials                           -0.000031  \n",
       "Health_Care                          -0.000030  \n",
       "Information_Technology                0.000047  "
      ]
     },
     "execution_count": 18,
     "metadata": {},
     "output_type": "execute_result"
    }
   ],
   "source": [
    "factor_model.F"
   ]
  },
  {
   "cell_type": "code",
   "execution_count": 19,
   "id": "184d3bd1-9843-44f6-b438-702315b6c63a",
   "metadata": {},
   "outputs": [
    {
     "data": {
      "text/html": [
       "<div>\n",
       "<style scoped>\n",
       "    .dataframe tbody tr th:only-of-type {\n",
       "        vertical-align: middle;\n",
       "    }\n",
       "\n",
       "    .dataframe tbody tr th {\n",
       "        vertical-align: top;\n",
       "    }\n",
       "\n",
       "    .dataframe thead th {\n",
       "        text-align: right;\n",
       "    }\n",
       "</style>\n",
       "<table border=\"1\" class=\"dataframe\">\n",
       "  <thead>\n",
       "    <tr style=\"text-align: right;\">\n",
       "      <th>ticker</th>\n",
       "      <th>AMZN</th>\n",
       "      <th>GOOG</th>\n",
       "      <th>JNJ</th>\n",
       "      <th>JPM</th>\n",
       "      <th>META</th>\n",
       "      <th>NFLX</th>\n",
       "      <th>NVDA</th>\n",
       "      <th>PG</th>\n",
       "      <th>UNH</th>\n",
       "      <th>XOM</th>\n",
       "    </tr>\n",
       "    <tr>\n",
       "      <th>ticker</th>\n",
       "      <th></th>\n",
       "      <th></th>\n",
       "      <th></th>\n",
       "      <th></th>\n",
       "      <th></th>\n",
       "      <th></th>\n",
       "      <th></th>\n",
       "      <th></th>\n",
       "      <th></th>\n",
       "      <th></th>\n",
       "    </tr>\n",
       "  </thead>\n",
       "  <tbody>\n",
       "    <tr>\n",
       "      <th>AMZN</th>\n",
       "      <td>0.015399</td>\n",
       "      <td>0.000000</td>\n",
       "      <td>0.000000</td>\n",
       "      <td>0.000000</td>\n",
       "      <td>0.000000</td>\n",
       "      <td>0.00000</td>\n",
       "      <td>0.000000</td>\n",
       "      <td>0.000000</td>\n",
       "      <td>0.000000</td>\n",
       "      <td>0.000000</td>\n",
       "    </tr>\n",
       "    <tr>\n",
       "      <th>GOOG</th>\n",
       "      <td>0.000000</td>\n",
       "      <td>0.023083</td>\n",
       "      <td>0.000000</td>\n",
       "      <td>0.000000</td>\n",
       "      <td>0.000000</td>\n",
       "      <td>0.00000</td>\n",
       "      <td>0.000000</td>\n",
       "      <td>0.000000</td>\n",
       "      <td>0.000000</td>\n",
       "      <td>0.000000</td>\n",
       "    </tr>\n",
       "    <tr>\n",
       "      <th>JNJ</th>\n",
       "      <td>0.000000</td>\n",
       "      <td>0.000000</td>\n",
       "      <td>0.008211</td>\n",
       "      <td>0.000000</td>\n",
       "      <td>0.000000</td>\n",
       "      <td>0.00000</td>\n",
       "      <td>0.000000</td>\n",
       "      <td>0.000000</td>\n",
       "      <td>0.000000</td>\n",
       "      <td>0.000000</td>\n",
       "    </tr>\n",
       "    <tr>\n",
       "      <th>JPM</th>\n",
       "      <td>0.000000</td>\n",
       "      <td>0.000000</td>\n",
       "      <td>0.000000</td>\n",
       "      <td>0.007085</td>\n",
       "      <td>0.000000</td>\n",
       "      <td>0.00000</td>\n",
       "      <td>0.000000</td>\n",
       "      <td>0.000000</td>\n",
       "      <td>0.000000</td>\n",
       "      <td>0.000000</td>\n",
       "    </tr>\n",
       "    <tr>\n",
       "      <th>META</th>\n",
       "      <td>0.000000</td>\n",
       "      <td>0.000000</td>\n",
       "      <td>0.000000</td>\n",
       "      <td>0.000000</td>\n",
       "      <td>0.024252</td>\n",
       "      <td>0.00000</td>\n",
       "      <td>0.000000</td>\n",
       "      <td>0.000000</td>\n",
       "      <td>0.000000</td>\n",
       "      <td>0.000000</td>\n",
       "    </tr>\n",
       "    <tr>\n",
       "      <th>NFLX</th>\n",
       "      <td>0.000000</td>\n",
       "      <td>0.000000</td>\n",
       "      <td>0.000000</td>\n",
       "      <td>0.000000</td>\n",
       "      <td>0.000000</td>\n",
       "      <td>0.02802</td>\n",
       "      <td>0.000000</td>\n",
       "      <td>0.000000</td>\n",
       "      <td>0.000000</td>\n",
       "      <td>0.000000</td>\n",
       "    </tr>\n",
       "    <tr>\n",
       "      <th>NVDA</th>\n",
       "      <td>0.000000</td>\n",
       "      <td>0.000000</td>\n",
       "      <td>0.000000</td>\n",
       "      <td>0.000000</td>\n",
       "      <td>0.000000</td>\n",
       "      <td>0.00000</td>\n",
       "      <td>0.024818</td>\n",
       "      <td>0.000000</td>\n",
       "      <td>0.000000</td>\n",
       "      <td>0.000000</td>\n",
       "    </tr>\n",
       "    <tr>\n",
       "      <th>PG</th>\n",
       "      <td>0.000000</td>\n",
       "      <td>0.000000</td>\n",
       "      <td>0.000000</td>\n",
       "      <td>0.000000</td>\n",
       "      <td>0.000000</td>\n",
       "      <td>0.00000</td>\n",
       "      <td>0.000000</td>\n",
       "      <td>0.005799</td>\n",
       "      <td>0.000000</td>\n",
       "      <td>0.000000</td>\n",
       "    </tr>\n",
       "    <tr>\n",
       "      <th>UNH</th>\n",
       "      <td>0.000000</td>\n",
       "      <td>0.000000</td>\n",
       "      <td>0.000000</td>\n",
       "      <td>0.000000</td>\n",
       "      <td>0.000000</td>\n",
       "      <td>0.00000</td>\n",
       "      <td>0.000000</td>\n",
       "      <td>0.000000</td>\n",
       "      <td>0.066752</td>\n",
       "      <td>0.000000</td>\n",
       "    </tr>\n",
       "    <tr>\n",
       "      <th>XOM</th>\n",
       "      <td>0.000000</td>\n",
       "      <td>0.000000</td>\n",
       "      <td>0.000000</td>\n",
       "      <td>0.000000</td>\n",
       "      <td>0.000000</td>\n",
       "      <td>0.00000</td>\n",
       "      <td>0.000000</td>\n",
       "      <td>0.000000</td>\n",
       "      <td>0.000000</td>\n",
       "      <td>0.003775</td>\n",
       "    </tr>\n",
       "  </tbody>\n",
       "</table>\n",
       "</div>"
      ],
      "text/plain": [
       "ticker      AMZN      GOOG       JNJ       JPM      META     NFLX      NVDA  \\\n",
       "ticker                                                                        \n",
       "AMZN    0.015399  0.000000  0.000000  0.000000  0.000000  0.00000  0.000000   \n",
       "GOOG    0.000000  0.023083  0.000000  0.000000  0.000000  0.00000  0.000000   \n",
       "JNJ     0.000000  0.000000  0.008211  0.000000  0.000000  0.00000  0.000000   \n",
       "JPM     0.000000  0.000000  0.000000  0.007085  0.000000  0.00000  0.000000   \n",
       "META    0.000000  0.000000  0.000000  0.000000  0.024252  0.00000  0.000000   \n",
       "NFLX    0.000000  0.000000  0.000000  0.000000  0.000000  0.02802  0.000000   \n",
       "NVDA    0.000000  0.000000  0.000000  0.000000  0.000000  0.00000  0.024818   \n",
       "PG      0.000000  0.000000  0.000000  0.000000  0.000000  0.00000  0.000000   \n",
       "UNH     0.000000  0.000000  0.000000  0.000000  0.000000  0.00000  0.000000   \n",
       "XOM     0.000000  0.000000  0.000000  0.000000  0.000000  0.00000  0.000000   \n",
       "\n",
       "ticker        PG       UNH       XOM  \n",
       "ticker                                \n",
       "AMZN    0.000000  0.000000  0.000000  \n",
       "GOOG    0.000000  0.000000  0.000000  \n",
       "JNJ     0.000000  0.000000  0.000000  \n",
       "JPM     0.000000  0.000000  0.000000  \n",
       "META    0.000000  0.000000  0.000000  \n",
       "NFLX    0.000000  0.000000  0.000000  \n",
       "NVDA    0.000000  0.000000  0.000000  \n",
       "PG      0.005799  0.000000  0.000000  \n",
       "UNH     0.000000  0.066752  0.000000  \n",
       "XOM     0.000000  0.000000  0.003775  "
      ]
     },
     "execution_count": 19,
     "metadata": {},
     "output_type": "execute_result"
    }
   ],
   "source": [
    "factor_model.D"
   ]
  },
  {
   "cell_type": "code",
   "execution_count": 20,
   "id": "bf162bae-cca3-43c2-bf80-4b0ba7fa899f",
   "metadata": {},
   "outputs": [
    {
     "data": {
      "text/html": [
       "<div>\n",
       "<style scoped>\n",
       "    .dataframe tbody tr th:only-of-type {\n",
       "        vertical-align: middle;\n",
       "    }\n",
       "\n",
       "    .dataframe tbody tr th {\n",
       "        vertical-align: top;\n",
       "    }\n",
       "\n",
       "    .dataframe thead th {\n",
       "        text-align: right;\n",
       "    }\n",
       "</style>\n",
       "<table border=\"1\" class=\"dataframe\">\n",
       "  <thead>\n",
       "    <tr style=\"text-align: right;\">\n",
       "      <th>ticker</th>\n",
       "      <th>AMZN</th>\n",
       "      <th>GOOG</th>\n",
       "      <th>JNJ</th>\n",
       "      <th>JPM</th>\n",
       "      <th>META</th>\n",
       "      <th>NFLX</th>\n",
       "      <th>NVDA</th>\n",
       "      <th>PG</th>\n",
       "      <th>UNH</th>\n",
       "      <th>XOM</th>\n",
       "    </tr>\n",
       "    <tr>\n",
       "      <th>ticker</th>\n",
       "      <th></th>\n",
       "      <th></th>\n",
       "      <th></th>\n",
       "      <th></th>\n",
       "      <th></th>\n",
       "      <th></th>\n",
       "      <th></th>\n",
       "      <th></th>\n",
       "      <th></th>\n",
       "      <th></th>\n",
       "    </tr>\n",
       "  </thead>\n",
       "  <tbody>\n",
       "    <tr>\n",
       "      <th>AMZN</th>\n",
       "      <td>0.015664</td>\n",
       "      <td>0.000179</td>\n",
       "      <td>0.000017</td>\n",
       "      <td>0.000181</td>\n",
       "      <td>0.000257</td>\n",
       "      <td>0.000151</td>\n",
       "      <td>0.000266</td>\n",
       "      <td>0.000037</td>\n",
       "      <td>0.000020</td>\n",
       "      <td>0.000127</td>\n",
       "    </tr>\n",
       "    <tr>\n",
       "      <th>GOOG</th>\n",
       "      <td>0.000179</td>\n",
       "      <td>0.023250</td>\n",
       "      <td>0.000005</td>\n",
       "      <td>0.000129</td>\n",
       "      <td>0.000230</td>\n",
       "      <td>0.000142</td>\n",
       "      <td>0.000314</td>\n",
       "      <td>0.000013</td>\n",
       "      <td>0.000008</td>\n",
       "      <td>0.000101</td>\n",
       "    </tr>\n",
       "    <tr>\n",
       "      <th>JNJ</th>\n",
       "      <td>0.000017</td>\n",
       "      <td>0.000005</td>\n",
       "      <td>0.008282</td>\n",
       "      <td>0.000038</td>\n",
       "      <td>0.000017</td>\n",
       "      <td>0.000004</td>\n",
       "      <td>-0.000051</td>\n",
       "      <td>0.000045</td>\n",
       "      <td>0.000067</td>\n",
       "      <td>0.000024</td>\n",
       "    </tr>\n",
       "    <tr>\n",
       "      <th>JPM</th>\n",
       "      <td>0.000181</td>\n",
       "      <td>0.000129</td>\n",
       "      <td>0.000038</td>\n",
       "      <td>0.007296</td>\n",
       "      <td>0.000196</td>\n",
       "      <td>0.000109</td>\n",
       "      <td>0.000133</td>\n",
       "      <td>0.000052</td>\n",
       "      <td>0.000038</td>\n",
       "      <td>0.000144</td>\n",
       "    </tr>\n",
       "    <tr>\n",
       "      <th>META</th>\n",
       "      <td>0.000257</td>\n",
       "      <td>0.000230</td>\n",
       "      <td>0.000017</td>\n",
       "      <td>0.000196</td>\n",
       "      <td>0.024573</td>\n",
       "      <td>0.000195</td>\n",
       "      <td>0.000404</td>\n",
       "      <td>0.000030</td>\n",
       "      <td>0.000020</td>\n",
       "      <td>0.000153</td>\n",
       "    </tr>\n",
       "    <tr>\n",
       "      <th>NFLX</th>\n",
       "      <td>0.000151</td>\n",
       "      <td>0.000142</td>\n",
       "      <td>0.000004</td>\n",
       "      <td>0.000109</td>\n",
       "      <td>0.000195</td>\n",
       "      <td>0.028140</td>\n",
       "      <td>0.000267</td>\n",
       "      <td>0.000011</td>\n",
       "      <td>0.000006</td>\n",
       "      <td>0.000085</td>\n",
       "    </tr>\n",
       "    <tr>\n",
       "      <th>NVDA</th>\n",
       "      <td>0.000266</td>\n",
       "      <td>0.000314</td>\n",
       "      <td>-0.000051</td>\n",
       "      <td>0.000133</td>\n",
       "      <td>0.000404</td>\n",
       "      <td>0.000267</td>\n",
       "      <td>0.025579</td>\n",
       "      <td>-0.000050</td>\n",
       "      <td>-0.000044</td>\n",
       "      <td>0.000103</td>\n",
       "    </tr>\n",
       "    <tr>\n",
       "      <th>PG</th>\n",
       "      <td>0.000037</td>\n",
       "      <td>0.000013</td>\n",
       "      <td>0.000045</td>\n",
       "      <td>0.000052</td>\n",
       "      <td>0.000030</td>\n",
       "      <td>0.000011</td>\n",
       "      <td>-0.000050</td>\n",
       "      <td>0.005882</td>\n",
       "      <td>0.000043</td>\n",
       "      <td>0.000030</td>\n",
       "    </tr>\n",
       "    <tr>\n",
       "      <th>UNH</th>\n",
       "      <td>0.000020</td>\n",
       "      <td>0.000008</td>\n",
       "      <td>0.000067</td>\n",
       "      <td>0.000038</td>\n",
       "      <td>0.000020</td>\n",
       "      <td>0.000006</td>\n",
       "      <td>-0.000044</td>\n",
       "      <td>0.000043</td>\n",
       "      <td>0.066815</td>\n",
       "      <td>0.000025</td>\n",
       "    </tr>\n",
       "    <tr>\n",
       "      <th>XOM</th>\n",
       "      <td>0.000127</td>\n",
       "      <td>0.000101</td>\n",
       "      <td>0.000024</td>\n",
       "      <td>0.000144</td>\n",
       "      <td>0.000153</td>\n",
       "      <td>0.000085</td>\n",
       "      <td>0.000103</td>\n",
       "      <td>0.000030</td>\n",
       "      <td>0.000025</td>\n",
       "      <td>0.004016</td>\n",
       "    </tr>\n",
       "  </tbody>\n",
       "</table>\n",
       "</div>"
      ],
      "text/plain": [
       "ticker      AMZN      GOOG       JNJ       JPM      META      NFLX      NVDA  \\\n",
       "ticker                                                                         \n",
       "AMZN    0.015664  0.000179  0.000017  0.000181  0.000257  0.000151  0.000266   \n",
       "GOOG    0.000179  0.023250  0.000005  0.000129  0.000230  0.000142  0.000314   \n",
       "JNJ     0.000017  0.000005  0.008282  0.000038  0.000017  0.000004 -0.000051   \n",
       "JPM     0.000181  0.000129  0.000038  0.007296  0.000196  0.000109  0.000133   \n",
       "META    0.000257  0.000230  0.000017  0.000196  0.024573  0.000195  0.000404   \n",
       "NFLX    0.000151  0.000142  0.000004  0.000109  0.000195  0.028140  0.000267   \n",
       "NVDA    0.000266  0.000314 -0.000051  0.000133  0.000404  0.000267  0.025579   \n",
       "PG      0.000037  0.000013  0.000045  0.000052  0.000030  0.000011 -0.000050   \n",
       "UNH     0.000020  0.000008  0.000067  0.000038  0.000020  0.000006 -0.000044   \n",
       "XOM     0.000127  0.000101  0.000024  0.000144  0.000153  0.000085  0.000103   \n",
       "\n",
       "ticker        PG       UNH       XOM  \n",
       "ticker                                \n",
       "AMZN    0.000037  0.000020  0.000127  \n",
       "GOOG    0.000013  0.000008  0.000101  \n",
       "JNJ     0.000045  0.000067  0.000024  \n",
       "JPM     0.000052  0.000038  0.000144  \n",
       "META    0.000030  0.000020  0.000153  \n",
       "NFLX    0.000011  0.000006  0.000085  \n",
       "NVDA   -0.000050 -0.000044  0.000103  \n",
       "PG      0.005882  0.000043  0.000030  \n",
       "UNH     0.000043  0.066815  0.000025  \n",
       "XOM     0.000030  0.000025  0.004016  "
      ]
     },
     "execution_count": 20,
     "metadata": {},
     "output_type": "execute_result"
    }
   ],
   "source": [
    "factor_model.sigma"
   ]
  },
  {
   "cell_type": "code",
   "execution_count": 21,
   "id": "22b932ef-5258-4a70-8c3e-93b25224e7a7",
   "metadata": {},
   "outputs": [],
   "source": [
    "factor_model.optimize(LongOnly=False)"
   ]
  },
  {
   "cell_type": "code",
   "execution_count": 22,
   "id": "f8c5babb-7799-471d-ad6d-b9941b958748",
   "metadata": {},
   "outputs": [
    {
     "data": {
      "text/plain": [
       "weights    1.0\n",
       "dtype: float64"
      ]
     },
     "execution_count": 22,
     "metadata": {},
     "output_type": "execute_result"
    }
   ],
   "source": [
    "factor_model.w.sum()"
   ]
  },
  {
   "cell_type": "code",
   "execution_count": 23,
   "id": "49475650-3891-4d26-9b6e-652fb9e003ac",
   "metadata": {},
   "outputs": [
    {
     "data": {
      "image/png": "[encoded data removed]",
      "text/plain": [
       "<Figure size 640x480 with 1 Axes>"
      ]
     },
     "metadata": {},
     "output_type": "display_data"
    }
   ],
   "source": [
    "factor_model.plot_weights()"
   ]
  },
  {
   "cell_type": "code",
   "execution_count": 24,
   "id": "4f04f356-643e-468e-9dff-90da839fed59",
   "metadata": {},
   "outputs": [
    {
     "data": {
      "text/html": [
       "<div>\n",
       "<style scoped>\n",
       "    .dataframe tbody tr th:only-of-type {\n",
       "        vertical-align: middle;\n",
       "    }\n",
       "\n",
       "    .dataframe tbody tr th {\n",
       "        vertical-align: top;\n",
       "    }\n",
       "\n",
       "    .dataframe thead th {\n",
       "        text-align: right;\n",
       "    }\n",
       "</style>\n",
       "<table border=\"1\" class=\"dataframe\">\n",
       "  <thead>\n",
       "    <tr style=\"text-align: right;\">\n",
       "      <th></th>\n",
       "      <th>weights</th>\n",
       "    </tr>\n",
       "  </thead>\n",
       "  <tbody>\n",
       "    <tr>\n",
       "      <th>AMZN</th>\n",
       "      <td>1.934730e-01</td>\n",
       "    </tr>\n",
       "    <tr>\n",
       "      <th>GOOG</th>\n",
       "      <td>4.543501e-02</td>\n",
       "    </tr>\n",
       "    <tr>\n",
       "      <th>JNJ</th>\n",
       "      <td>-1.799747e-01</td>\n",
       "    </tr>\n",
       "    <tr>\n",
       "      <th>JPM</th>\n",
       "      <td>5.364813e-01</td>\n",
       "    </tr>\n",
       "    <tr>\n",
       "      <th>META</th>\n",
       "      <td>7.315028e-02</td>\n",
       "    </tr>\n",
       "    <tr>\n",
       "      <th>NFLX</th>\n",
       "      <td>3.178165e-02</td>\n",
       "    </tr>\n",
       "    <tr>\n",
       "      <th>NVDA</th>\n",
       "      <td>-2.848392e-07</td>\n",
       "    </tr>\n",
       "    <tr>\n",
       "      <th>PG</th>\n",
       "      <td>1.414858e-01</td>\n",
       "    </tr>\n",
       "    <tr>\n",
       "      <th>UNH</th>\n",
       "      <td>-2.002500e-02</td>\n",
       "    </tr>\n",
       "    <tr>\n",
       "      <th>XOM</th>\n",
       "      <td>1.781929e-01</td>\n",
       "    </tr>\n",
       "  </tbody>\n",
       "</table>\n",
       "</div>"
      ],
      "text/plain": [
       "           weights\n",
       "AMZN  1.934730e-01\n",
       "GOOG  4.543501e-02\n",
       "JNJ  -1.799747e-01\n",
       "JPM   5.364813e-01\n",
       "META  7.315028e-02\n",
       "NFLX  3.178165e-02\n",
       "NVDA -2.848392e-07\n",
       "PG    1.414858e-01\n",
       "UNH  -2.002500e-02\n",
       "XOM   1.781929e-01"
      ]
     },
     "execution_count": 24,
     "metadata": {},
     "output_type": "execute_result"
    }
   ],
   "source": [
    "factor_model.w"
   ]
  },
  {
   "cell_type": "code",
   "execution_count": 25,
   "id": "65af5d0c-947b-4a5b-a3a6-e8dcd2eb3ec6",
   "metadata": {},
   "outputs": [
    {
     "data": {
      "text/html": [
       "<div>\n",
       "<style scoped>\n",
       "    .dataframe tbody tr th:only-of-type {\n",
       "        vertical-align: middle;\n",
       "    }\n",
       "\n",
       "    .dataframe tbody tr th {\n",
       "        vertical-align: top;\n",
       "    }\n",
       "\n",
       "    .dataframe thead th {\n",
       "        text-align: right;\n",
       "    }\n",
       "</style>\n",
       "<table border=\"1\" class=\"dataframe\">\n",
       "  <thead>\n",
       "    <tr style=\"text-align: right;\">\n",
       "      <th>ticker</th>\n",
       "      <th>AMZN</th>\n",
       "      <th>GOOG</th>\n",
       "      <th>JNJ</th>\n",
       "      <th>JPM</th>\n",
       "      <th>META</th>\n",
       "      <th>NFLX</th>\n",
       "      <th>NVDA</th>\n",
       "      <th>PG</th>\n",
       "      <th>UNH</th>\n",
       "      <th>XOM</th>\n",
       "    </tr>\n",
       "  </thead>\n",
       "  <tbody>\n",
       "    <tr>\n",
       "      <th>0</th>\n",
       "      <td>0.000833</td>\n",
       "      <td>0.000307</td>\n",
       "      <td>-0.000452</td>\n",
       "      <td>0.001049</td>\n",
       "      <td>0.000518</td>\n",
       "      <td>0.000259</td>\n",
       "      <td>-0.000012</td>\n",
       "      <td>0.000219</td>\n",
       "      <td>-0.000415</td>\n",
       "      <td>0.00021</td>\n",
       "    </tr>\n",
       "  </tbody>\n",
       "</table>\n",
       "</div>"
      ],
      "text/plain": [
       "ticker      AMZN      GOOG       JNJ       JPM      META      NFLX      NVDA  \\\n",
       "0       0.000833  0.000307 -0.000452  0.001049  0.000518  0.000259 -0.000012   \n",
       "\n",
       "ticker        PG       UNH      XOM  \n",
       "0       0.000219 -0.000415  0.00021  "
      ]
     },
     "execution_count": 25,
     "metadata": {},
     "output_type": "execute_result"
    }
   ],
   "source": [
    "factor_model.mu"
   ]
  },
  {
   "cell_type": "code",
   "execution_count": 26,
   "id": "bb4e078b-1dad-4f9f-916e-b1706437aac9",
   "metadata": {},
   "outputs": [
    {
     "name": "stderr",
     "output_type": "stream",
     "text": [
      "/home/drew/projects/bwmacro/portfolio-optimizer-notebooks/notebooks/PortfolioOptimizer.py:95: UserWarning: No artists with labels found to put in legend.  Note that artists whose label start with an underscore are ignored when legend() is called with no argument.\n",
      "  ax.legend()\n"
     ]
    },
    {
     "ename": "RuntimeError",
     "evalue": "Colorbar layout of new layout engine not compatible with old engine, and a colorbar has been created.  Engine not changed.",
     "output_type": "error",
     "traceback": [
      "\u001b[91m---------------------------------------------------------------------------\u001b[39m",
      "\u001b[91mRuntimeError\u001b[39m                              Traceback (most recent call last)",
      "\u001b[96mCell\u001b[39m\u001b[96m \u001b[39m\u001b[32mIn[26]\u001b[39m\u001b[32m, line 1\u001b[39m\n\u001b[92m----> \u001b[39m\u001b[92m1\u001b[39m \u001b[38;5;15;43mfactor_model\u001b[39;49m\u001b[38;5;204;43m.\u001b[39;49m\u001b[38;5;15;43mplot_frontier\u001b[39;49m\u001b[38;5;15;43m(\u001b[39;49m\u001b[38;5;15;43m)\u001b[39;49m\n",
      "\u001b[96mFile \u001b[39m\u001b[32m~/projects/bwmacro/portfolio-optimizer-notebooks/notebooks/PortfolioOptimizer.py:96\u001b[39m, in \u001b[36mRiskfolioOptimizer.plot_frontier\u001b[39m\u001b[94m(self, points, current_weights)\u001b[39m\n\u001b[92m     93\u001b[39m \u001b[38;5;15m    \u001b[39m\u001b[38;5;15max\u001b[39m\u001b[38;5;204m.\u001b[39m\u001b[38;5;15mscatter\u001b[39m\u001b[38;5;15m(\u001b[39m\u001b[38;5;15mport_risk\u001b[39m\u001b[38;5;15m,\u001b[39m\u001b[38;5;15m \u001b[39m\u001b[38;5;15mport_return\u001b[39m\u001b[38;5;15m,\u001b[39m\u001b[38;5;15m \u001b[39m\u001b[38;5;15mmarker\u001b[39m\u001b[38;5;204m=\u001b[39m\u001b[38;5;186m'\u001b[39m\u001b[38;5;186mo\u001b[39m\u001b[38;5;186m'\u001b[39m\u001b[38;5;15m,\u001b[39m\u001b[38;5;15m \u001b[39m\u001b[38;5;15ms\u001b[39m\u001b[38;5;204m=\u001b[39m\u001b[38;5;141m16\u001b[39m\u001b[38;5;15m,\u001b[39m\u001b[38;5;15m \u001b[39m\u001b[38;5;15mcolor\u001b[39m\u001b[38;5;204m=\u001b[39m\u001b[38;5;186m'\u001b[39m\u001b[38;5;186mred\u001b[39m\u001b[38;5;186m'\u001b[39m\u001b[38;5;15m,\u001b[39m\u001b[38;5;15m \u001b[39m\u001b[38;5;15mlabel\u001b[39m\u001b[38;5;204m=\u001b[39m\u001b[38;5;186m'\u001b[39m\u001b[38;5;186mCurrent Position\u001b[39m\u001b[38;5;186m'\u001b[39m\u001b[38;5;15m)\u001b[39m\n\u001b[92m     95\u001b[39m \u001b[38;5;15m\u001b[39m\u001b[38;5;15max\u001b[39m\u001b[38;5;204m.\u001b[39m\u001b[38;5;15mlegend\u001b[39m\u001b[38;5;15m(\u001b[39m\u001b[38;5;15m)\u001b[39m\n\u001b[92m---> \u001b[39m\u001b[92m96\u001b[39m \u001b[38;5;15m\u001b[39m\u001b[38;5;15;43mplt\u001b[39;49m\u001b[38;5;204;43m.\u001b[39;49m\u001b[38;5;15;43mtight_layout\u001b[39;49m\u001b[38;5;15;43m(\u001b[39;49m\u001b[38;5;15;43m)\u001b[39;49m\n\u001b[92m     97\u001b[39m \u001b[38;5;15m\u001b[39m\u001b[38;5;15mplt\u001b[39m\u001b[38;5;204m.\u001b[39m\u001b[38;5;15mshow\u001b[39m\u001b[38;5;15m(\u001b[39m\u001b[38;5;15m)\u001b[39m\n",
      "\u001b[96mFile \u001b[39m\u001b[32m~/miniconda3/envs/riskmodels/lib/python3.11/site-packages/matplotlib/pyplot.py:2844\u001b[39m, in \u001b[36mtight_layout\u001b[39m\u001b[94m(pad, h_pad, w_pad, rect)\u001b[39m\n\u001b[92m   2836\u001b[39m \u001b[38;5;148m@_copy_docstring_and_deprecators\u001b[39m\u001b[38;5;15m(\u001b[39m\u001b[38;5;15mFigure\u001b[39m\u001b[38;5;204m.\u001b[39m\u001b[38;5;15mtight_layout\u001b[39m\u001b[38;5;15m)\u001b[39m\n\u001b[92m   2837\u001b[39m \u001b[38;5;81mdef\u001b[39m\u001b[38;5;15m \u001b[39m\u001b[38;5;148mtight_layout\u001b[39m\u001b[38;5;15m(\u001b[39m\n\u001b[92m   2838\u001b[39m \u001b[38;5;15m    \u001b[39m\u001b[38;5;204m*\u001b[39m\u001b[38;5;15m,\u001b[39m\n\u001b[92m   (...)\u001b[39m\u001b[92m   2842\u001b[39m \u001b[38;5;15m    \u001b[39m\u001b[38;5;15mrect\u001b[39m\u001b[38;5;15m:\u001b[39m\u001b[38;5;15m \u001b[39m\u001b[38;5;15mtuple\u001b[39m\u001b[38;5;15m[\u001b[39m\u001b[38;5;15mfloat\u001b[39m\u001b[38;5;15m,\u001b[39m\u001b[38;5;15m \u001b[39m\u001b[38;5;15mfloat\u001b[39m\u001b[38;5;15m,\u001b[39m\u001b[38;5;15m \u001b[39m\u001b[38;5;15mfloat\u001b[39m\u001b[38;5;15m,\u001b[39m\u001b[38;5;15m \u001b[39m\u001b[38;5;15mfloat\u001b[39m\u001b[38;5;15m]\u001b[39m\u001b[38;5;15m \u001b[39m\u001b[38;5;204m|\u001b[39m\u001b[38;5;15m \u001b[39m\u001b[38;5;81mNone\u001b[39m\u001b[38;5;15m \u001b[39m\u001b[38;5;204m=\u001b[39m\u001b[38;5;15m \u001b[39m\u001b[38;5;81mNone\u001b[39m\u001b[38;5;15m,\u001b[39m\n\u001b[92m   2843\u001b[39m \u001b[38;5;15m)\u001b[39m\u001b[38;5;15m \u001b[39m\u001b[38;5;204m-\u001b[39m\u001b[38;5;204m>\u001b[39m\u001b[38;5;15m \u001b[39m\u001b[38;5;81mNone\u001b[39m\u001b[38;5;15m:\u001b[39m\n\u001b[92m-> \u001b[39m\u001b[92m2844\u001b[39m \u001b[38;5;15m    \u001b[39m\u001b[38;5;15;43mgcf\u001b[39;49m\u001b[38;5;15;43m(\u001b[39;49m\u001b[38;5;15;43m)\u001b[39;49m\u001b[38;5;204;43m.\u001b[39;49m\u001b[38;5;15;43mtight_layout\u001b[39;49m\u001b[38;5;15;43m(\u001b[39;49m\u001b[38;5;15;43mpad\u001b[39;49m\u001b[38;5;204;43m=\u001b[39;49m\u001b[38;5;15;43mpad\u001b[39;49m\u001b[38;5;15;43m,\u001b[39;49m\u001b[38;5;15;43m \u001b[39;49m\u001b[38;5;15;43mh_pad\u001b[39;49m\u001b[38;5;204;43m=\u001b[39;49m\u001b[38;5;15;43mh_pad\u001b[39;49m\u001b[38;5;15;43m,\u001b[39;49m\u001b[38;5;15;43m \u001b[39;49m\u001b[38;5;15;43mw_pad\u001b[39;49m\u001b[38;5;204;43m=\u001b[39;49m\u001b[38;5;15;43mw_pad\u001b[39;49m\u001b[38;5;15;43m,\u001b[39;49m\u001b[38;5;15;43m \u001b[39;49m\u001b[38;5;15;43mrect\u001b[39;49m\u001b[38;5;204;43m=\u001b[39;49m\u001b[38;5;15;43mrect\u001b[39;49m\u001b[38;5;15;43m)\u001b[39;49m\n",
      "\u001b[96mFile \u001b[39m\u001b[32m~/miniconda3/envs/riskmodels/lib/python3.11/site-packages/matplotlib/figure.py:3639\u001b[39m, in \u001b[36mFigure.tight_layout\u001b[39m\u001b[94m(self, pad, h_pad, w_pad, rect)\u001b[39m\n\u001b[92m   3637\u001b[39m \u001b[38;5;15m\u001b[39m\u001b[38;5;81mtry\u001b[39m\u001b[38;5;15m:\u001b[39m\n\u001b[92m   3638\u001b[39m \u001b[38;5;15m    \u001b[39m\u001b[38;5;15mprevious_engine\u001b[39m\u001b[38;5;15m \u001b[39m\u001b[38;5;204m=\u001b[39m\u001b[38;5;15m \u001b[39m\u001b[38;5;15mself\u001b[39m\u001b[38;5;204m.\u001b[39m\u001b[38;5;15mget_layout_engine\u001b[39m\u001b[38;5;15m(\u001b[39m\u001b[38;5;15m)\u001b[39m\n\u001b[92m-> \u001b[39m\u001b[92m3639\u001b[39m \u001b[38;5;15m    \u001b[39m\u001b[38;5;15;43mself\u001b[39;49m\u001b[38;5;204;43m.\u001b[39;49m\u001b[38;5;15;43mset_layout_engine\u001b[39;49m\u001b[38;5;15;43m(\u001b[39;49m\u001b[38;5;15;43mengine\u001b[39;49m\u001b[38;5;15;43m)\u001b[39;49m\n\u001b[92m   3640\u001b[39m \u001b[38;5;15m    \u001b[39m\u001b[38;5;15mengine\u001b[39m\u001b[38;5;204m.\u001b[39m\u001b[38;5;15mexecute\u001b[39m\u001b[38;5;15m(\u001b[39m\u001b[38;5;15mself\u001b[39m\u001b[38;5;15m)\u001b[39m\n\u001b[92m   3641\u001b[39m \u001b[38;5;15m    \u001b[39m\u001b[38;5;81mif\u001b[39m\u001b[38;5;15m \u001b[39m\u001b[38;5;15mprevious_engine\u001b[39m\u001b[38;5;15m \u001b[39m\u001b[38;5;204mis\u001b[39m\u001b[38;5;15m \u001b[39m\u001b[38;5;204mnot\u001b[39m\u001b[38;5;15m \u001b[39m\u001b[38;5;81mNone\u001b[39m\u001b[38;5;15m \u001b[39m\u001b[38;5;204mand\u001b[39m\u001b[38;5;15m \u001b[39m\u001b[38;5;204mnot\u001b[39m\u001b[38;5;15m \u001b[39m\u001b[38;5;15misinstance\u001b[39m\u001b[38;5;15m(\u001b[39m\n\u001b[92m   3642\u001b[39m \u001b[38;5;15m        \u001b[39m\u001b[38;5;15mprevious_engine\u001b[39m\u001b[38;5;15m,\u001b[39m\u001b[38;5;15m \u001b[39m\u001b[38;5;15m(\u001b[39m\u001b[38;5;15mTightLayoutEngine\u001b[39m\u001b[38;5;15m,\u001b[39m\u001b[38;5;15m \u001b[39m\u001b[38;5;15mPlaceHolderLayoutEngine\u001b[39m\u001b[38;5;15m)\u001b[39m\n\u001b[92m   3643\u001b[39m \u001b[38;5;15m    \u001b[39m\u001b[38;5;15m)\u001b[39m\u001b[38;5;15m:\u001b[39m\n",
      "\u001b[96mFile \u001b[39m\u001b[32m~/miniconda3/envs/riskmodels/lib/python3.11/site-packages/matplotlib/figure.py:2740\u001b[39m, in \u001b[36mFigure.set_layout_engine\u001b[39m\u001b[94m(self, layout, **kwargs)\u001b[39m\n\u001b[92m   2738\u001b[39m \u001b[38;5;15m    \u001b[39m\u001b[38;5;15mself\u001b[39m\u001b[38;5;204m.\u001b[39m\u001b[38;5;15m_layout_engine\u001b[39m\u001b[38;5;15m \u001b[39m\u001b[38;5;204m=\u001b[39m\u001b[38;5;15m \u001b[39m\u001b[38;5;15mnew_layout_engine\u001b[39m\n\u001b[92m   2739\u001b[39m \u001b[38;5;15m\u001b[39m\u001b[38;5;81melse\u001b[39m\u001b[38;5;15m:\u001b[39m\n\u001b[92m-> \u001b[39m\u001b[92m2740\u001b[39m \u001b[38;5;15m    \u001b[39m\u001b[38;5;81mraise\u001b[39m\u001b[38;5;15m \u001b[39m\u001b[38;5;148mRuntimeError\u001b[39m\u001b[38;5;15m(\u001b[39m\u001b[38;5;186m'\u001b[39m\u001b[38;5;186mColorbar layout of new layout engine not \u001b[39m\u001b[38;5;186m'\u001b[39m\n\u001b[92m   2741\u001b[39m \u001b[38;5;15m                       \u001b[39m\u001b[38;5;186m'\u001b[39m\u001b[38;5;186mcompatible with old engine, and a colorbar \u001b[39m\u001b[38;5;186m'\u001b[39m\n\u001b[92m   2742\u001b[39m \u001b[38;5;15m                       \u001b[39m\u001b[38;5;186m'\u001b[39m\u001b[38;5;186mhas been created.  Engine not changed.\u001b[39m\u001b[38;5;186m'\u001b[39m\u001b[38;5;15m)\u001b[39m\n",
      "\u001b[91mRuntimeError\u001b[39m: Colorbar layout of new layout engine not compatible with old engine, and a colorbar has been created.  Engine not changed."
     ]
    },
    {
     "data": {
      "image/png": "[encoded data removed]",
      "text/plain": [
       "<Figure size 1000x600 with 3 Axes>"
      ]
     },
     "metadata": {},
     "output_type": "display_data"
    }
   ],
   "source": [
    "factor_model.plot_frontier()"
   ]
  },
  {
   "cell_type": "code",
   "execution_count": null,
   "id": "44e1b3fe-db2a-43de-81d8-fce2df44061a",
   "metadata": {},
   "outputs": [],
   "source": []
  }
 ],
 "metadata": {
  "kernelspec": {
   "display_name": "Python 3 (ipykernel)",
   "language": "python",
   "name": "python3"
  },
  "language_info": {
   "codemirror_mode": {
    "name": "ipython",
    "version": 3
   },
   "file_extension": ".py",
   "mimetype": "text/x-python",
   "name": "python",
   "nbconvert_exporter": "python",
   "pygments_lexer": "ipython3",
   "version": "3.11.13"
  }
 },
 "nbformat": 4,
 "nbformat_minor": 5
}
